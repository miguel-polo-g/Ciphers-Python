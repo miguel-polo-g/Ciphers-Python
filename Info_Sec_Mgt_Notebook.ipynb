{
  "nbformat": 4,
  "nbformat_minor": 0,
  "metadata": {
    "colab": {
      "provenance": [],
      "toc_visible": true,
      "machine_shape": "hm"
    },
    "kernelspec": {
      "name": "python3",
      "display_name": "Python 3"
    }
  },
  "cells": [
    {
      "cell_type": "markdown",
      "metadata": {
        "id": "VLZgngQ_syhI"
      },
      "source": [
        "## Week 1 - Python"
      ]
    },
    {
      "cell_type": "markdown",
      "metadata": {
        "id": "zlJOgUF1q_OA"
      },
      "source": [
        "#####hex2base64"
      ]
    },
    {
      "cell_type": "code",
      "metadata": {
        "id": "goLTY_CWs8ne",
        "colab": {
          "base_uri": "https://localhost:8080/"
        },
        "outputId": "c35758b4-2a28-42e6-9a69-2e8f9756490c"
      },
      "source": [
        "import codecs\n",
        "\n",
        "def hex2base64(s):\n",
        "  # Convert string to hex\n",
        "  s = '0'*(len(s)%2) + s\n",
        "  hexnum = codecs.decode(s, 'hex')\n",
        "  print(hexnum)\n",
        "  print(\"hexnum: \" + hexnum.hex())\n",
        "  \n",
        "  # Encode as base64 (bytes)\n",
        "  b64num = codecs.encode(hexnum, 'base64')\n",
        "  print(\"base64: \" + b64num.decode(\"utf-8\"))\n",
        "\n",
        "s = 'd04988522ddfed3133cc24fb6924eae9'\n",
        "hex2base64(s)\n",
        "\n"
      ],
      "execution_count": 1,
      "outputs": [
        {
          "output_type": "stream",
          "name": "stdout",
          "text": [
            "b'\\xd0I\\x88R-\\xdf\\xed13\\xcc$\\xfbi$\\xea\\xe9'\n",
            "hexnum: d04988522ddfed3133cc24fb6924eae9\n",
            "base64: 0EmIUi3f7TEzzCT7aSTq6Q==\n",
            "\n"
          ]
        }
      ]
    },
    {
      "cell_type": "markdown",
      "metadata": {
        "id": "Sg72SA65rWje"
      },
      "source": [
        "#####String and lists"
      ]
    },
    {
      "cell_type": "code",
      "metadata": {
        "id": "Lb-uYR1mCTQt",
        "colab": {
          "base_uri": "https://localhost:8080/",
          "height": 102
        },
        "outputId": "d67bd3e0-2559-4c2c-9122-7c6e0774eb62"
      },
      "source": [
        "import random\n",
        "\n",
        "def convert(s):\n",
        "    new = \"\"\n",
        "    for x in s:\n",
        "        new += x\n",
        "    return new\n",
        "\n",
        "#Generate 20 random numbers between 0x41=65 and 0x5a=90\n",
        "randomlist = random.sample(range(65, 90), 20)\n",
        "print(randomlist)\n",
        "\n",
        "characters = [chr(n) for n in randomlist]\n",
        "print(characters)\n",
        "\n",
        "str = convert(characters)\n",
        "print(str)\n",
        "\n",
        "str = str.lower()\n",
        "print(str)\n",
        "\n",
        "result = str[2:10]\n",
        "result = result + result\n",
        "print(result)"
      ],
      "execution_count": null,
      "outputs": [
        {
          "output_type": "stream",
          "text": [
            "[82, 79, 83, 80, 81, 65, 67, 88, 89, 71, 78, 75, 86, 87, 76, 68, 66, 85, 72, 69]\n",
            "['R', 'O', 'S', 'P', 'Q', 'A', 'C', 'X', 'Y', 'G', 'N', 'K', 'V', 'W', 'L', 'D', 'B', 'U', 'H', 'E']\n",
            "ROSPQACXYGNKVWLDBUHE\n",
            "rospqacxygnkvwldbuhe\n",
            "spqacxygspqacxyg\n"
          ],
          "name": "stdout"
        }
      ]
    },
    {
      "cell_type": "markdown",
      "metadata": {
        "id": "bgbd8b48oX0D"
      },
      "source": [
        "## Week 2 - Converting formats"
      ]
    },
    {
      "cell_type": "markdown",
      "metadata": {
        "id": "MqO_5Aa0rdf3"
      },
      "source": [
        "#####hex2base64 without libraries"
      ]
    },
    {
      "cell_type": "code",
      "metadata": {
        "id": "VQxHTUnmsCGX",
        "colab": {
          "base_uri": "https://localhost:8080/",
          "height": 51
        },
        "outputId": "babf86e2-70fe-4ec5-99cd-6fbe8cb437ea"
      },
      "source": [
        "def fillupbyte(s):\n",
        "  while len(s)%8 != 0:\n",
        "    s = '0' + s\n",
        "  return s\n",
        "\n",
        "def rightpadding(s):\n",
        "  while len(s)%6 != 0:\n",
        "    s = s + '0'\n",
        "  return s\n",
        "\n",
        "def finalpadding(s):\n",
        "  while len(s)%4 != 0:\n",
        "    s = s + '='\n",
        "  return s\n",
        "\n",
        "def encode(bits):\n",
        "  values =  'ABCDEFGHIJKLMNOPQRSTUVWXYZabcdefghijklmnopqrstuvwxyz0123456789+/'\n",
        "  result = \"\"\n",
        "  for i in range(len(bits)):\n",
        "    if i%6 == 0:\n",
        "      index = int(bits[i:i+6], 2)\n",
        "      result+=values[int(index)]\n",
        "  return result\n",
        "\n",
        "def hex2base64nolib(value):\n",
        "  binnum = bin(int(value, 16))[2:]\n",
        "  strng8 = fillupbyte(binnum)\n",
        "  strng6 = rightpadding(strng8)\n",
        "  encoded = encode(strng6)\n",
        "  result = finalpadding(encoded)\n",
        "  return result\n",
        "\n",
        "s = '3d54'\n",
        "\n",
        "print(\"hexnum: \" + s)\n",
        "print(\"base64: \" + hex2base64nolib(s))"
      ],
      "execution_count": null,
      "outputs": [
        {
          "output_type": "stream",
          "text": [
            "hexnum: 3d54\n",
            "base64: PVQ=\n"
          ],
          "name": "stdout"
        }
      ]
    },
    {
      "cell_type": "markdown",
      "metadata": {
        "id": "Qmuxnw3yk2F7"
      },
      "source": [
        "##Week 3 - Simple encryptions\n"
      ]
    },
    {
      "cell_type": "markdown",
      "metadata": {
        "id": "zemuSzpprldq"
      },
      "source": [
        "#####Find the key of a single byte xor encryption\n"
      ]
    },
    {
      "cell_type": "code",
      "metadata": {
        "id": "K_5uj6nqlB-C",
        "colab": {
          "base_uri": "https://localhost:8080/"
        },
        "outputId": "5fa91636-079d-4f3d-e4e9-8f0b1d2b85d1"
      },
      "source": [
        "\n",
        "encryptedhex = 'e9c88081f8ced481c9c0d7c481c7ced4cfc581ccc480'\n",
        "\n",
        "def hex2string(h):\n",
        "  ascii_string = \"\"\n",
        "  for i in range(0,len(h),2):\n",
        "    ascii_string += chr(int(h[i:i+2],16))\n",
        "  return ascii_string\n",
        "\n",
        "def string2hex(s):\n",
        "  hex_string = \"\"\n",
        "  for c in s:\n",
        "    hex_string += hex(ord(c))[2:]\n",
        "  return hex_string\n",
        "\n",
        "def hex_xor(hex1,hex2):\n",
        "  result = \"\"\n",
        "  bin1 = bin(int(hex1, 16))[2:].rjust(max(len(hex1),len(hex2))*4,'0')\n",
        "  bin2 = bin(int(hex2, 16))[2:].rjust(max(len(hex1),len(hex2))*4,'0')\n",
        "  for b in range(0,len(bin1)):\n",
        "    if bin1[b] == bin2[b]:\n",
        "      result += '0'\n",
        "    else:\n",
        "      result += '1'\n",
        "  return hex(int(result,2))[2:]\n",
        "\n",
        "def encrypt_single_byte_xor(hexnum,byte):\n",
        "  result = \"\"\n",
        "  for i in range(0,len(hexnum),2):\n",
        "    result += hex_xor(hexnum[i:i+2],byte)\n",
        "  return result\n",
        "\n",
        "def findoriginal():\n",
        "  for i in range(0,256):\n",
        "    print(\"used byte:\", hex(i)[2:], \" --- decryption:\", hex2string(encrypt_single_byte_xor(encryptedhex,hex(i)[2:])))\n",
        "\n",
        "#findoriginal()\n",
        "print(\"encrypted hex:\", encryptedhex)\n",
        "print(\"decryption:\",hex2string(encrypt_single_byte_xor(encryptedhex,'a1')))\n",
        "# ORIGINAL TEXT: Hi! You have found me!\n",
        "\n"
      ],
      "execution_count": 4,
      "outputs": [
        {
          "output_type": "stream",
          "name": "stdout",
          "text": [
            "encrypted hex: e9c88081f8ced481c9c0d7c481c7ced4cfc581ccc480\n",
            "decryption: Hi! You have found me!\n"
          ]
        }
      ]
    },
    {
      "cell_type": "markdown",
      "metadata": {
        "id": "5V-7jyOywu2Z"
      },
      "source": [
        "##Week 4 - Pre exam exercises"
      ]
    },
    {
      "cell_type": "markdown",
      "metadata": {
        "id": "W-ukRwudwxjz"
      },
      "source": [
        "#####Text ecryption scheme with one byte key + add modulo 256"
      ]
    },
    {
      "cell_type": "code",
      "metadata": {
        "id": "6_wsfdTFxO56",
        "colab": {
          "base_uri": "https://localhost:8080/",
          "height": 68
        },
        "outputId": "c49e50b3-aab6-49e2-8053-785829a8c443"
      },
      "source": [
        "\n",
        "def hex2string(h):\n",
        "  ascii_string = \"\"\n",
        "  for i in range(0,len(h),2):\n",
        "    ascii_string += chr(int(h[i:i+2],16))\n",
        "  return ascii_string\n",
        "\n",
        "def string2hex(s):\n",
        "  hex_string = \"\"\n",
        "  for c in s:\n",
        "    hex_string += hex(ord(c))[2:]\n",
        "  return hex_string\n",
        "\n",
        "def add_modulo_256(hexnum,byte):\n",
        "  result = \"\"\n",
        "  for i in range(0,len(hexnum),2):\n",
        "    result += hex((int(hexnum[i:i+2],16)+int(byte,16))%256)[2:]\n",
        "  return result\n",
        "\n",
        "def encrypt_by_add_mod(text,num):\n",
        "  hexnum = hex(num%256)[2:]\n",
        "  hextext = string2hex(text)\n",
        "  return hex2string(add_modulo_256(hextext,hexnum))\n",
        "\n",
        "\n",
        "print(encrypt_by_add_mod('Hello',123))\n",
        "print(encrypt_by_add_mod(encrypt_by_add_mod('Hello',123),133))\n",
        "print(encrypt_by_add_mod(encrypt_by_add_mod('Cryptography',100),156))"
      ],
      "execution_count": null,
      "outputs": [
        {
          "output_type": "stream",
          "text": [
            "Ãàççê\n",
            "Hello\n",
            "Cryptography\n"
          ],
          "name": "stdout"
        }
      ]
    },
    {
      "cell_type": "markdown",
      "metadata": {
        "id": "-LJGfOe28SLz"
      },
      "source": [
        "#####Text ecryption scheme with changing key by previous cipher"
      ]
    },
    {
      "cell_type": "code",
      "metadata": {
        "id": "X9gU8Caf8VF7",
        "colab": {
          "base_uri": "https://localhost:8080/",
          "height": 68
        },
        "outputId": "10ff0120-843b-4c19-e000-bdfbe1bf59b6"
      },
      "source": [
        "\n",
        "def hex2string(h):\n",
        "  ascii_string = \"\"\n",
        "  for i in range(0,len(h),2):\n",
        "    ascii_string += chr(int(h[i:i+2],16))\n",
        "  return ascii_string\n",
        "\n",
        "def string2hex(s):\n",
        "  hex_string = \"\"\n",
        "  for c in s:\n",
        "    solution = hex(ord(c))[2:]\n",
        "    if len(solution)==1:\n",
        "      solution = fillupbyte(solution)\n",
        "    hex_string += solution\n",
        "  return hex_string\n",
        "\n",
        "def fillupbyte(s):\n",
        "  while len(s)%2 != 0:\n",
        "    s = '0' + s\n",
        "  return s\n",
        "\n",
        "def hex_xor(hex1,hex2):\n",
        "  result = \"\"\n",
        "  bin1 = bin(int(hex1, 16))[2:].rjust(max(len(hex1),len(hex2))*4,'0')\n",
        "  bin2 = bin(int(hex2, 16))[2:].rjust(max(len(hex1),len(hex2))*4,'0')\n",
        "  for b in range(0,len(bin1)):\n",
        "    if bin1[b] == bin2[b]:\n",
        "      result += '0'\n",
        "    else:\n",
        "      result += '1'\n",
        "  solution = hex(int(result,2))[2:]\n",
        "  if len(solution)==1:\n",
        "    solution = fillupbyte(solution)\n",
        "  return solution\n",
        "\n",
        "def encrypt_xor_with_changing_key_by_prev_cipher(text,num,enc_dec):\n",
        "  result = \"\"\n",
        "  byte = hex(num%256)[2:]\n",
        "  hextext = string2hex(text)\n",
        "\n",
        "  if enc_dec == \"encrypt\":\n",
        "    for i in range(0,len(hextext),2):\n",
        "      if i == 0:\n",
        "        result += hex_xor(hextext[i:i+2],byte)\n",
        "      else:\n",
        "        result += hex_xor(hextext[i:i+2],hextext[i-2:i])\n",
        "    return hex2string(result)\n",
        "  \n",
        "  if enc_dec == \"decrypt\":\n",
        "    for i in range(0,len(hextext),2):\n",
        "      if i == 0:\n",
        "        result += hex_xor(hextext[i:i+2],byte)\n",
        "      else:\n",
        "        result += hex_xor(hextext[i:i+2],result[i-2:i])\n",
        "    return hex2string(result)\n",
        "  \n",
        "  else:\n",
        "    return \"Invalid arguments\"\n",
        "\n",
        "print(encrypt_xor_with_changing_key_by_prev_cipher('Hello',123,'encrypt'))\n",
        "print(encrypt_xor_with_changing_key_by_prev_cipher(encrypt_xor_with_changing_key_by_prev_cipher('Hello',123,'encrypt'),123,'decrypt'))\n",
        "print(encrypt_xor_with_changing_key_by_prev_cipher(encrypt_xor_with_changing_key_by_prev_cipher('Cryptography',10,'encrypt'),10,'decrypt'))\n",
        "\n"
      ],
      "execution_count": null,
      "outputs": [
        {
          "output_type": "stream",
          "text": [
            "3-\t\u0000\u0003\n",
            "Hello\n",
            "Cryptography\n"
          ],
          "name": "stdout"
        }
      ]
    },
    {
      "cell_type": "markdown",
      "metadata": {
        "id": "4rcig17hpmn3"
      },
      "source": [
        "#####Week 5 Exam - Task 1"
      ]
    },
    {
      "cell_type": "code",
      "metadata": {
        "id": "OeYwdnuTOiHl",
        "colab": {
          "base_uri": "https://localhost:8080/",
          "height": 68
        },
        "outputId": "13d8262e-8d07-433a-b6ba-0cededa6aada"
      },
      "source": [
        "\n",
        "def hex2string(h):\n",
        "  ascii_string = \"\"\n",
        "  for i in range(0,len(h),2):\n",
        "    ascii_string += chr(int(h[i:i+2],16))\n",
        "  return ascii_string\n",
        "\n",
        "def string2hex(s):\n",
        "  hex_string = \"\"\n",
        "  for c in s:\n",
        "    solution = hex(ord(c))[2:]\n",
        "    if len(solution)==1:\n",
        "      solution = fillupbyte(solution)\n",
        "    hex_string += solution\n",
        "  return hex_string\n",
        "\n",
        "def fillupbyte(s):\n",
        "  while len(s)%2 != 0:\n",
        "    s = '0' + s\n",
        "  return s\n",
        "\n",
        "def hex_xor(hex1,hex2):\n",
        "  result = \"\"\n",
        "  bin1 = bin(int(hex1, 16))[2:].rjust(max(len(hex1),len(hex2))*4,'0')\n",
        "  bin2 = bin(int(hex2, 16))[2:].rjust(max(len(hex1),len(hex2))*4,'0')\n",
        "  for b in range(0,len(bin1)):\n",
        "    if bin1[b] == bin2[b]:\n",
        "      result += '0'\n",
        "    else:\n",
        "      result += '1'\n",
        "  solution = hex(int(result,2))[2:]\n",
        "  if len(solution)==1:\n",
        "    solution = fillupbyte(solution)\n",
        "  return solution\n",
        "\n",
        "def power_modulo_256(byte):\n",
        "  return hex((int(byte,16)**2)%256)[2:]\n",
        "\n",
        "def encrypt_with_power(text,num):\n",
        "  result = \"\"\n",
        "  byte = hex(num%256)[2:]\n",
        "  hextext = string2hex(text)\n",
        "  for i in range(0,len(hextext),2):\n",
        "    if i == 0:\n",
        "      result += hex_xor(hextext[i:i+2],byte)\n",
        "    else:\n",
        "      byte = power_modulo_256(byte)\n",
        "      result += hex_xor(hextext[i:i+2],byte)\n",
        "  return hex2string(result)\n",
        "\n",
        "print(encrypt_with_power('Hello',250))\n",
        "print(encrypt_with_power(encrypt_with_power('Hello',123),123))\n",
        "print(encrypt_with_power(encrypt_with_power('Cryptography',10),10))"
      ],
      "execution_count": null,
      "outputs": [
        {
          "output_type": "stream",
          "text": [
            "²A|lo\n",
            "Hello\n",
            "Cryptography\n"
          ],
          "name": "stdout"
        }
      ]
    },
    {
      "cell_type": "markdown",
      "metadata": {
        "id": "47zCfx4ZpzJt"
      },
      "source": [
        "#####Task 2"
      ]
    },
    {
      "cell_type": "code",
      "metadata": {
        "id": "VeREFbMap28x",
        "colab": {
          "base_uri": "https://localhost:8080/",
          "height": 85
        },
        "outputId": "35212413-daaf-4b65-b908-a1d7024005d4"
      },
      "source": [
        "\n",
        "def hex2string(h):\n",
        "  ascii_string = \"\"\n",
        "  for i in range(0,len(h),2):\n",
        "    ascii_string += chr(int(h[i:i+2],16))\n",
        "  return ascii_string\n",
        "\n",
        "def string2hex(s):\n",
        "  hex_string = \"\"\n",
        "  for c in s:\n",
        "    solution = hex(ord(c))[2:]\n",
        "    if len(solution)==1:\n",
        "      solution = fillupbyte(solution)\n",
        "    hex_string += solution\n",
        "  return hex_string\n",
        "\n",
        "def fillupbyte(s):\n",
        "  while len(s)%2 != 0:\n",
        "    s = '0' + s\n",
        "  return s\n",
        "\n",
        "def hex_xor(hex1,hex2):\n",
        "  result = \"\"\n",
        "  bin1 = bin(int(hex1, 16))[2:].rjust(max(len(hex1),len(hex2))*4,'0')\n",
        "  bin2 = bin(int(hex2, 16))[2:].rjust(max(len(hex1),len(hex2))*4,'0')\n",
        "  for b in range(0,len(bin1)):\n",
        "    if bin1[b] == bin2[b]:\n",
        "      result += '0'\n",
        "    else:\n",
        "      result += '1'\n",
        "  solution = hex(int(result,2))[2:]\n",
        "  if len(solution)==1:\n",
        "    solution = fillupbyte(solution)\n",
        "  return solution\n",
        "\n",
        "def power_modulo_256(byte):\n",
        "  return hex((int(byte,16)**2)%256)[2:]\n",
        "\n",
        "def encrypt_with_power2(text,num,enc_dec):\n",
        "  result = \"\"\n",
        "  byte = hex(num%256)[2:]\n",
        "  hextext = string2hex(text)\n",
        "\n",
        "  if enc_dec == \"encrypt\":\n",
        "    for i in range(0,len(hextext),2):\n",
        "      if i == 0:\n",
        "        result += hex_xor(hextext[i:i+2],byte)\n",
        "      else:\n",
        "        byte = power_modulo_256(byte)\n",
        "        if byte == 0 or byte == 1:\n",
        "          result += hex_xor(hextext[i:i+2],hextext[i-2:i])\n",
        "        else:\n",
        "          result += hex_xor(hextext[i:i+2],byte)\n",
        "    return hex2string(result)\n",
        "  \n",
        "  if enc_dec == \"decrypt\":\n",
        "    for i in range(0,len(hextext),2):\n",
        "      if i == 0:\n",
        "        result += hex_xor(hextext[i:i+2],byte)\n",
        "      else:\n",
        "        byte = power_modulo_256(byte)\n",
        "        if byte == 0 or byte == 1:\n",
        "          result += hex_xor(hextext[i:i+2],result[i-2:i])\n",
        "        else:\n",
        "          result += hex_xor(hextext[i:i+2],byte)\n",
        "    return hex2string(result)\n",
        "\n",
        "  else:\n",
        "    return \"Invalid arguments\"\n",
        "  \n",
        "\n",
        "print(encrypt_with_power2('Hello',253,'encrypt'))\n",
        "print(encrypt_with_power2('Hello2',131,'encrypt'))\n",
        "print(encrypt_with_power2(encrypt_with_power2('Hello',123,'encrypt'),123,'decrypt'))\n",
        "print(encrypt_with_power2(encrypt_with_power2('Cryptography',10,'encrypt'),10,'decrypt'))"
      ],
      "execution_count": null,
      "outputs": [
        {
          "output_type": "stream",
          "text": [
            "µl=Í.\n",
            "Ël=Í.³\n",
            "Hello\n",
            "Cryptography\n"
          ],
          "name": "stdout"
        }
      ]
    },
    {
      "cell_type": "markdown",
      "metadata": {
        "id": "SZxcVq1TyIto"
      },
      "source": [
        "#####Task 3"
      ]
    },
    {
      "cell_type": "code",
      "metadata": {
        "id": "GE3Cis9xyIcP",
        "colab": {
          "base_uri": "https://localhost:8080/",
          "height": 119
        },
        "outputId": "82c9659d-8107-4152-ddd1-b9556407fd6f"
      },
      "source": [
        "def fillupbyte(s):\n",
        "  while len(s)%8 != 0:\n",
        "    s = '0' + s\n",
        "  return s\n",
        "\n",
        "def swap_lower_and_upper_bits(num):\n",
        "  result = \"\"\n",
        "  hexnum = hex(num)[2:]\n",
        "  binnum = bin(int(hexnum, 16))[2:]\n",
        "  binnum = fillupbyte(binnum)\n",
        "  for i in range(0,len(binnum),4):\n",
        "    result += binnum[len(binnum)-4-i:len(binnum)-i]\n",
        "  return int(result,2)\n",
        "\n",
        "print(swap_lower_and_upper_bits(0))\n",
        "print(swap_lower_and_upper_bits(1))\n",
        "print(swap_lower_and_upper_bits(2))\n",
        "print(swap_lower_and_upper_bits(8))\n",
        "print(bin(swap_lower_and_upper_bits(0b1111)))\n",
        "print(bin(swap_lower_and_upper_bits(0b10011010)))"
      ],
      "execution_count": null,
      "outputs": [
        {
          "output_type": "stream",
          "text": [
            "0\n",
            "16\n",
            "32\n",
            "128\n",
            "0b11110000\n",
            "0b10101001\n"
          ],
          "name": "stdout"
        }
      ]
    },
    {
      "cell_type": "markdown",
      "metadata": {
        "id": "rajcaITxyG_I"
      },
      "source": [
        "#####Task 4"
      ]
    },
    {
      "cell_type": "code",
      "metadata": {
        "id": "H0qeSVGHyQRs",
        "colab": {
          "base_uri": "https://localhost:8080/",
          "height": 68
        },
        "outputId": "c44e1dba-0ad6-491b-dbe2-7d784c9a19fc"
      },
      "source": [
        "\n",
        "def hex2string(h):\n",
        "  ascii_string = \"\"\n",
        "  for i in range(0,len(h),2):\n",
        "    ascii_string += chr(int(h[i:i+2],16))\n",
        "  return ascii_string\n",
        "\n",
        "def string2hex(s):\n",
        "  hex_string = \"\"\n",
        "  for c in s:\n",
        "    solution = hex(ord(c))[2:]\n",
        "    if len(solution)==1:\n",
        "      solution = fillupbyte(solution)\n",
        "    hex_string += solution\n",
        "  return hex_string\n",
        "\n",
        "def fillupbyte(s):\n",
        "  while len(s)%2 != 0:\n",
        "    s = '0' + s\n",
        "  return s\n",
        "\n",
        "def fillupbyte8(s):\n",
        "  while len(s)%8 != 0:\n",
        "    s = '0' + s\n",
        "  return s\n",
        "\n",
        "def swap_lower_and_upper_bits(num):\n",
        "  result = \"\"\n",
        "  hexnum = hex(num)[2:]\n",
        "  binnum = bin(int(hexnum, 16))[2:]\n",
        "  binnum = fillupbyte8(binnum)\n",
        "  for i in range(0,len(binnum),4):\n",
        "    result += binnum[len(binnum)-4-i:len(binnum)-i]\n",
        "  return int(result,2)\n",
        "\n",
        "def hex_xor(hex1,hex2):\n",
        "  result = \"\"\n",
        "  bin1 = bin(int(hex1, 16))[2:].rjust(max(len(hex1),len(hex2))*4,'0')\n",
        "  bin2 = bin(int(hex2, 16))[2:].rjust(max(len(hex1),len(hex2))*4,'0')\n",
        "  for b in range(0,len(bin1)):\n",
        "    if bin1[b] == bin2[b]:\n",
        "      result += '0'\n",
        "    else:\n",
        "      result += '1'\n",
        "  solution = hex(int(result,2))[2:]\n",
        "  if len(solution)==1:\n",
        "    solution = fillupbyte(solution)\n",
        "  return solution\n",
        "\n",
        "def power_modulo_256(byte):\n",
        "  result = hex((int(byte,16)**2)%256)[2:]\n",
        "  if len(result)==1:\n",
        "    result = fillupbyte(result)\n",
        "  return result\n",
        "\n",
        "def encrypt_with_power_and_swap(text,num,enc_dec):\n",
        "  result = \"\"\n",
        "  byte = hex(num%256)[2:]\n",
        "  hextext = string2hex(text)\n",
        "\n",
        "  if enc_dec == \"encrypt\":\n",
        "    for i in range(0,len(hextext),2):\n",
        "      if i == 0:\n",
        "        result += hex_xor(hex(swap_lower_and_upper_bits(int(hextext[i:i+2],16)))[2:],hex(swap_lower_and_upper_bits(int(byte,16)))[2:])\n",
        "      else:\n",
        "        byte = power_modulo_256(byte)\n",
        "        if int(byte,16) == 0 or int(byte,16) == 1:\n",
        "          newbyte = hextext[i-2:i]\n",
        "          byte = newbyte\n",
        "          result += hex_xor(hex(swap_lower_and_upper_bits(int(hextext[i:i+2],16)))[2:],hex(swap_lower_and_upper_bits(int(newbyte,16)))[2:])\n",
        "        else:\n",
        "          solution = hex_xor(hex(swap_lower_and_upper_bits(int(hextext[i:i+2],16)))[2:],hex(swap_lower_and_upper_bits(int(byte,16)))[2:])\n",
        "          if len(solution)==1:\n",
        "            solution = fillupbyte(solution)\n",
        "          result += solution\n",
        "    return hex2string(result)\n",
        "  \n",
        "  if enc_dec == \"decrypt\":\n",
        "    for i in range(0,len(hextext),2):\n",
        "      if i == 0:\n",
        "        result += hex(swap_lower_and_upper_bits(int(hex_xor(hextext[i:i+2],hex(swap_lower_and_upper_bits(int(byte,16)))),16)))[2:]\n",
        "      else:\n",
        "        byte = power_modulo_256(byte)\n",
        "        if int(byte,16) == 0 or int(byte,16) == 1:\n",
        "          newbyte = result[i-2:i]\n",
        "          byte = newbyte\n",
        "          result += hex(swap_lower_and_upper_bits(int(hex_xor(hextext[i:i+2],hex(swap_lower_and_upper_bits(int(newbyte,16)))),16)))[2:]\n",
        "        else:\n",
        "          solution = hex(swap_lower_and_upper_bits(int(hex_xor(hextext[i:i+2],hex(swap_lower_and_upper_bits(int(byte,16)))),16)))[2:]\n",
        "          if len(solution)==1:\n",
        "            solution = fillupbyte(solution)\n",
        "          result += solution\n",
        "    return hex2string(result)\n",
        "\n",
        "  else:\n",
        "    return \"Invalid arguments\"\n",
        "\n",
        "print(encrypt_with_power_and_swap('Hello',11,'encrypt'))\n",
        "print(encrypt_with_power_and_swap(encrypt_with_power_and_swap('Hello',123,'encrypt'),123,'decrypt'))\n",
        "print(encrypt_with_power_and_swap(encrypt_with_power_and_swap('Cryptography',12,'encrypt'),12,'decrypt'))\n",
        "\n"
      ],
      "execution_count": null,
      "outputs": [
        {
          "output_type": "stream",
          "text": [
            "4ÁÕÐê\n",
            "Hello\n",
            "Cryptography\n"
          ],
          "name": "stdout"
        }
      ]
    },
    {
      "cell_type": "markdown",
      "metadata": {
        "id": "Bp_invFVgwRd"
      },
      "source": [
        "##Week 6 - Block cipher 1"
      ]
    },
    {
      "cell_type": "code",
      "metadata": {
        "id": "DKmrg1Mjh57R",
        "colab": {
          "base_uri": "https://localhost:8080/"
        },
        "outputId": "9ea85b42-b6c4-4962-e392-96050dd314de"
      },
      "source": [
        "pip install pycryptodome"
      ],
      "execution_count": null,
      "outputs": [
        {
          "output_type": "stream",
          "text": [
            "Requirement already satisfied: pycryptodome in /usr/local/lib/python3.6/dist-packages (3.9.9)\n"
          ],
          "name": "stdout"
        }
      ]
    },
    {
      "cell_type": "code",
      "metadata": {
        "id": "NMHC0hNpg5HR",
        "colab": {
          "base_uri": "https://localhost:8080/"
        },
        "outputId": "c1298972-d4a2-44b4-d7aa-4bbf853c503f"
      },
      "source": [
        "from Crypto.Cipher import AES\n",
        "\n",
        "key = bytes([57, 226, 240, 61, 125, 240, 75, 68, 22, 35, 124, 205, 144, 27, 118, 220])\n",
        "iv = bytes([241, 147, 66, 129, 194, 34, 37, 51, 236, 69, 188, 205, 64, 140, 244, 204])\n",
        "\n",
        "def decrypt_aes(bytarray,key,iv):\n",
        "  cipher = AES.new(key, AES.MODE_CBC, iv)\n",
        "  return cipher.decrypt(bytarray)\n",
        "\n",
        "def bit_permutation(bits, array):\n",
        "  if len(bits) < len(array):\n",
        "    return \"Invalid arguments\"\n",
        "  else:\n",
        "    result = \"\"\n",
        "    for i in array:\n",
        "      result += bits[i-1] \n",
        "    return result\n",
        "\n",
        "def bit_rotation(bits):\n",
        "  result = bits[1:] + bits[0]\n",
        "  return result\n",
        "\n",
        "def left_shift_rot(bits, steps=1):\n",
        "  result = bits\n",
        "  for i in range(steps):\n",
        "    result = bit_rotation(result)\n",
        "  return result\n",
        "\n",
        "def PKCS7_pad(text,steps):\n",
        "  pad = steps - int(len(text))\n",
        "  if pad < 0 or pad >= 128:\n",
        "    return \"Invalid padding\"\n",
        "  else:\n",
        "    return bytes(text + chr(pad)*pad,\"ascii\")\n",
        "\n",
        "print(decrypt_aes(bytes([255, 18, 67, 115, 172, 117, 242, 233, 246, 69, 81, 156, 52, 154, 123, 171]),key,iv))\n",
        "print(decrypt_aes(bytes([171, 218, 160, 96, 193, 134, 73, 81, 221, 149, 19, 180, 31, 247, 106, 64]),key,iv))\n",
        "\n",
        "print(bit_permutation(\"101\",[1,2,3]))\n",
        "print(bit_permutation(\"101\",[3,2,1]))\n",
        "print(bit_permutation(\"101\",[1,3,2]))\n",
        "print(bit_permutation(\"1010\",[3,4,1,2]))\n",
        "print(bit_permutation(\"1010\",[1,3,2,4]))\n",
        "print(bit_permutation(\"11110000\",[5,6,7,8,1,2,3,4]))\n",
        "print(bit_permutation(\"0001001100110100010101110111100110011011101111001101111111110001\",[57,49,41,33,25,17,9,1,58,50,42,34,26,18,10,2,59,51,43,35,27,19,11,3,60,52,44,36,63,55,47,39,31,23,15,7,62,54,46,38,30,22,14,6,61,53,45,37,29,21,13,5,28,20,12,4]))\n",
        "\n",
        "print(\"\\n\",left_shift_rot('010'))\n",
        "print(left_shift_rot('111'))\n",
        "print(left_shift_rot('1010111001'))\n",
        "print(left_shift_rot('0101110011'))\n",
        "print(left_shift_rot('1010111001',2))\n",
        "print(left_shift_rot('0001',3))\n",
        "\n",
        "print(\"\\n\",PKCS7_pad('hello',6))\n",
        "print(PKCS7_pad('hello',7))\n",
        "print(PKCS7_pad('hello, how are you?',26))\n",
        "print(PKCS7_pad('hello, how are you?',55))\n",
        "print(PKCS7_pad('hello, how are you?',67))"
      ],
      "execution_count": null,
      "outputs": [
        {
          "output_type": "stream",
          "text": [
            "b'hello world 1234'\n",
            "b'lovecryptography'\n",
            "101\n",
            "101\n",
            "110\n",
            "1010\n",
            "1100\n",
            "00001111\n",
            "11110000110011001010101011110101010101100110011110001111\n",
            "\n",
            " 100\n",
            "111\n",
            "0101110011\n",
            "1011100110\n",
            "1011100110\n",
            "1000\n",
            "\n",
            " b'hello\\x01'\n",
            "b'hello\\x02\\x02'\n",
            "b'hello, how are you?\\x07\\x07\\x07\\x07\\x07\\x07\\x07'\n",
            "b'hello, how are you?$$$$$$$$$$$$$$$$$$$$$$$$$$$$$$$$$$$$'\n",
            "b'hello, how are you?000000000000000000000000000000000000000000000000'\n"
          ],
          "name": "stdout"
        }
      ]
    },
    {
      "cell_type": "markdown",
      "metadata": {
        "id": "BIMmHfvsipKq"
      },
      "source": [
        "##Week 7 - Block cipher 2"
      ]
    },
    {
      "cell_type": "code",
      "metadata": {
        "id": "hNVp8K6Lr13X",
        "colab": {
          "base_uri": "https://localhost:8080/"
        },
        "outputId": "a3a95b30-8341-4536-88bd-eae6c23c2e12"
      },
      "source": [
        "from Crypto.Cipher import AES\n",
        "\n",
        "key = bytes([57, 226, 240, 61, 125, 240, 75, 68, 22, 35, 124, 205, 144, 27, 118, 220])\n",
        "iv = bytes([241, 147, 66, 129, 194, 34, 37, 51, 236, 69, 188, 205, 64, 140, 244, 204])\n",
        "\n",
        "def decrypt_aes_ecb(bytarray,key):\n",
        "  cipher = AES.new(key, AES.MODE_ECB)\n",
        "  return cipher.decrypt(bytarray)\n",
        "\n",
        "def encrypt_aes_ecb(bytarray,key):\n",
        "  cipher = AES.new(key, AES.MODE_ECB)\n",
        "  return cipher.encrypt(bytarray)\n",
        "\n",
        "def xor_byte_arrays(bytarray1,bytarray2):\n",
        "  padded1 = bytarray1.rjust(max(len(bytarray1),len(bytarray2)), bytes([0]))\n",
        "  padded2 = bytarray2.rjust(max(len(bytarray1),len(bytarray2)), bytes([0]))\n",
        "  parts = []\n",
        "  for padded1, padded2 in zip(padded1, padded2):\n",
        "    parts.append(bytes([padded1 ^ padded2]))\n",
        "  return b''.join(parts)\n",
        "\n",
        "def decrypt_aes_cbc_with_ecb(bytarray,key,iv):\n",
        "  result = []\n",
        "  for i in range(0,len(bytarray),16):\n",
        "    if i==0:\n",
        "      result.append( xor_byte_arrays( decrypt_aes_ecb(bytarray[i:i+16],key), iv ) )\n",
        "    else:\n",
        "      result.append( xor_byte_arrays( decrypt_aes_ecb(bytarray[i:i+16],key), bytarray[i-16:i] ) )\n",
        "  return b''.join(result)\n",
        "\n",
        "def encrypt_aes_cbc_with_ecb(bytarray,key,iv):\n",
        "  result = []\n",
        "  for i in range(0,len(bytarray),16):\n",
        "    if i==0:\n",
        "      ithbytes = bytarray[i:i+16]\n",
        "      result.append( encrypt_aes_ecb( xor_byte_arrays(ithbytes,iv) ,key) )\n",
        "    else:\n",
        "      ithbyte = bytarray[i:i+16]\n",
        "      result.append( encrypt_aes_ecb( xor_byte_arrays(ithbyte, result[i-1]) ,key) )\n",
        "  return b''.join(result)\n",
        "\n",
        "print(decrypt_aes_ecb(bytes([215, 221, 59, 138, 96, 94, 155, 69, 52, 90, 212, 108, 49, 65, 138, 179]),key))\n",
        "print(decrypt_aes_ecb(bytes([147, 140, 44, 177, 97, 209, 42, 239, 152, 124, 241, 175, 202, 164, 183, 18]),key),\"\\n\")\n",
        "\n",
        "print(xor_byte_arrays(bytes([1,2,3,4]),bytes([2,3,4,5])))\n",
        "print(xor_byte_arrays(bytes([1,2,3,4]),bytes([])))\n",
        "print(xor_byte_arrays(bytes([1,2,3,4]),bytes([1,2])))\n",
        "print(xor_byte_arrays(bytes([1,2,4,8,16,32,64,128]),bytes([1,1,1,1,1,1,1,1])),\"\\n\")\n",
        "\n",
        "print(decrypt_aes_cbc_with_ecb(bytes([255, 18, 67, 115, 172, 117, 242, 233, 246, 69, 81, 156, 52, 154, 123, 171]),key,iv))\n",
        "print(decrypt_aes_cbc_with_ecb(bytes([171, 218, 160, 96, 193, 134, 73, 81, 221, 149, 19, 180, 31, 247, 106, 64]),key,iv),\"\\n\")\n",
        "\n",
        "print(encrypt_aes_cbc_with_ecb(b'hello world 1234',key,iv))\n",
        "print(encrypt_aes_cbc_with_ecb(bytes(b'lovecryptography'),key,iv))\n"
      ],
      "execution_count": null,
      "outputs": [
        {
          "output_type": "stream",
          "text": [
            "b'lovecryptography'\n",
            "b'!!really  love!!' \n",
            "\n",
            "b'\\x03\\x01\\x07\\x01'\n",
            "b'\\x01\\x02\\x03\\x04'\n",
            "b'\\x01\\x02\\x02\\x06'\n",
            "b'\\x00\\x03\\x05\\t\\x11!A\\x81' \n",
            "\n",
            "b'hello world 1234'\n",
            "b'lovecryptography' \n",
            "\n",
            "b'\\xff\\x12Cs\\xacu\\xf2\\xe9\\xf6EQ\\x9c4\\x9a{\\xab'\n",
            "b'\\xab\\xda\\xa0`\\xc1\\x86IQ\\xdd\\x95\\x13\\xb4\\x1f\\xf7j@'\n"
          ],
          "name": "stdout"
        }
      ]
    },
    {
      "cell_type": "markdown",
      "metadata": {
        "id": "v9zFO_vjvPkb"
      },
      "source": [
        "##Week 8 - DES"
      ]
    },
    {
      "cell_type": "code",
      "metadata": {
        "id": "XzSGVXFDvSGm",
        "colab": {
          "base_uri": "https://localhost:8080/",
          "height": 428
        },
        "outputId": "57c83ece-b16c-4710-a33f-f3a77df6e15c"
      },
      "source": [
        "from Crypto.Cipher import DES\n",
        "import random\n",
        "\n",
        "#tables for key generation\n",
        "key_shifts = [1, 1, 2, 2, 2, 2, 2, 2, 1, 2, 2, 2, 2, 2, 2, 1]\n",
        "\n",
        "PC1 = [57, 49, 41, 33, 25, 17, 9, 1, 58, 50, 42, 34, 26, 18, 10, 2, 59, 51, 43, 35, 27, 19, 11, 3, 60, 52, 44, 36, 63,\n",
        "       55, 47, 39, 31, 23, 15, 7, 62, 54, 46, 38, 30, 22, 14, 6, 61, 53, 45, 37, 29, 21, 13, 5, 28, 20, 12, 4]\n",
        "\n",
        "PC2 = [14, 17, 11, 24, 1, 5, 3, 28, 15, 6, 21, 10, 23, 19, 12, 4, 26, 8, 16, 7, 27, 20, 13, 2, 41, 52, 31, 37, 47, 55,\n",
        "       30, 40, 51, 45, 33, 48, 44, 49, 39, 56, 34, 53, 46, 42, 50, 36, 29, 32]\n",
        "\n",
        "# tables for encryption\n",
        "IP = [58, 50, 42, 34, 26, 18, 10, 2,\n",
        "      60, 52, 44, 36, 28, 20, 12, 4,\n",
        "      62, 54, 46, 38, 30, 22, 14, 6,\n",
        "      64, 56, 48, 40, 32, 24, 16, 8,\n",
        "      57, 49, 41, 33, 25, 17, 9, 1,\n",
        "      59, 51, 43, 35, 27, 19, 11, 3,\n",
        "      61, 53, 45, 37, 29, 21, 13, 5,\n",
        "      63, 55, 47, 39, 31, 23, 15, 7]\n",
        "IP_inverse = [40, 8, 48, 16, 56, 24, 64, 32,\n",
        "              39, 7, 47, 15, 55, 23, 63, 31,\n",
        "              38, 6, 46, 14, 54, 22, 62, 30,\n",
        "              37, 5, 45, 13, 53, 21, 61, 29,\n",
        "              36, 4, 44, 12, 52, 20, 60, 28,\n",
        "              35, 3, 43, 11, 51, 19, 59, 27,\n",
        "              34, 2, 42, 10, 50, 18, 58, 26,\n",
        "              33, 1, 41, 9, 49, 17, 57, 25]\n",
        "\n",
        "# Tables for function f\n",
        "E = [32, 1, 2, 3, 4, 5, 4, 5, 6, 7, 8, 9, 8, 9, 10, 11, 12, 13, 12, 13, 14, 15, 16, 17, 16, 17, 18, 19, 20, 21, 20, 21,\n",
        "     22, 23, 24, 25, 24, 25, 26, 27, 28, 29, 28, 29, 30, 31, 32, 1]\n",
        "S = \\\n",
        "[\n",
        "    [\n",
        "        [14, 4, 13, 1, 2, 15, 11, 8, 3, 10, 6, 12, 5, 9, 0, 7],\n",
        "        [0, 15, 7, 4, 14, 2, 13, 1, 10, 6, 12, 11, 9, 5, 3, 8],\n",
        "        [4, 1, 14, 8, 13, 6, 2, 11, 15, 12, 9, 7, 3, 10, 5, 0],\n",
        "        [15, 12, 8, 2, 4, 9, 1, 7, 5, 11, 3, 14, 10, 0, 6, 13]\n",
        "    ],\n",
        "    [\n",
        "        [15, 1, 8, 14, 6, 11, 3, 4, 9, 7, 2, 13, 12, 0, 5, 10],\n",
        "        [3, 13, 4, 7, 15, 2, 8, 14, 12, 0, 1, 10, 6, 9, 11, 5],\n",
        "        [0, 14, 7, 11, 10, 4, 13, 1, 5, 8, 12, 6, 9, 3, 2, 15],\n",
        "        [13, 8, 10, 1, 3, 15, 4, 2, 11, 6, 7, 12, 0, 5, 14, 9]\n",
        "    ],\n",
        "    [\n",
        "        [10, 0, 9, 14, 6, 3, 15, 5, 1, 13, 12, 7, 11, 4, 2, 8],\n",
        "        [13, 7, 0, 9, 3, 4, 6, 10, 2, 8, 5, 14, 12, 11, 15, 1],\n",
        "        [13, 6, 4, 9, 8, 15, 3, 0, 11, 1, 2, 12, 5, 10, 14, 7],\n",
        "        [1, 10, 13, 0, 6, 9, 8, 7, 4, 15, 14, 3, 11, 5, 2, 12]\n",
        "    ],\n",
        "    [\n",
        "        [7, 13, 14, 3, 0, 6, 9, 10, 1, 2, 8, 5, 11, 12, 4, 15],\n",
        "        [13, 8, 11, 5, 6, 15, 0, 3, 4, 7, 2, 12, 1, 10, 14, 9],\n",
        "        [10, 6, 9, 0, 12, 11, 7, 13, 15, 1, 3, 14, 5, 2, 8, 4],\n",
        "        [3, 15, 0, 6, 10, 1, 13, 8, 9, 4, 5, 11, 12, 7, 2, 14]\n",
        "    ],\n",
        "    [\n",
        "        [2, 12, 4, 1, 7, 10, 11, 6, 8, 5, 3, 15, 13, 0, 14, 9],\n",
        "        [14, 11, 2, 12, 4, 7, 13, 1, 5, 0, 15, 10, 3, 9, 8, 6],\n",
        "        [4, 2, 1, 11, 10, 13, 7, 8, 15, 9, 12, 5, 6, 3, 0, 14],\n",
        "        [11, 8, 12, 7, 1, 14, 2, 13, 6, 15, 0, 9, 10, 4, 5, 3]\n",
        "    ],\n",
        "    [\n",
        "        [12, 1, 10, 15, 9, 2, 6, 8, 0, 13, 3, 4, 14, 7, 5, 11],\n",
        "        [10, 15, 4, 2, 7, 12, 9, 5, 6, 1, 13, 14, 0, 11, 3, 8],\n",
        "        [9, 14, 15, 5, 2, 8, 12, 3, 7, 0, 4, 10, 1, 13, 11, 6],\n",
        "        [4, 3, 2, 12, 9, 5, 15, 10, 11, 14, 1, 7, 6, 0, 8, 13]\n",
        "    ],\n",
        "    [\n",
        "        [4, 11, 2, 14, 15, 0, 8, 13, 3, 12, 9, 7, 5, 10, 6, 1],\n",
        "        [13, 0, 11, 7, 4, 9, 1, 10, 14, 3, 5, 12, 2, 15, 8, 6],\n",
        "        [1, 4, 11, 13, 12, 3, 7, 14, 10, 15, 6, 8, 0, 5, 9, 2],\n",
        "        [6, 11, 13, 8, 1, 4, 10, 7, 9, 5, 0, 15, 14, 2, 3, 12]\n",
        "    ],\n",
        "    [\n",
        "        [13, 2, 8, 4, 6, 15, 11, 1, 10, 9, 3, 14, 5, 0, 12, 7],\n",
        "        [1, 15, 13, 8, 10, 3, 7, 4, 12, 5, 6, 11, 0, 14, 9, 2],\n",
        "        [7, 11, 4, 1, 9, 12, 14, 2, 0, 6, 10, 13, 15, 3, 5, 8],\n",
        "        [2, 1, 14, 7, 4, 10, 8, 13, 15, 12, 9, 0, 3, 5, 6, 11]\n",
        "    ]\n",
        "]\n",
        "\n",
        "P = [\n",
        "    16, 7, 20, 21, 29, 12, 28, 17,\n",
        "    1, 15, 23, 26, 5, 18, 31, 10,\n",
        "    2, 8, 24, 14, 32, 27, 3, 9,\n",
        "    19, 13, 30, 6, 22, 11, 4, 25]\n",
        "\n",
        "def bytes2binary(bytarray):\n",
        "  result = \"\"\n",
        "  for b in bytarray:\n",
        "    result +=  bin(b)[2:].rjust(8,'0')\n",
        "  return result\n",
        "\n",
        "def binary2bytes(binnum):\n",
        "  result = []\n",
        "  len(binnum)\n",
        "  for i in range(0,len(binnum),8):\n",
        "    result.append(int(binnum[i:i+8],2)) \n",
        "  return bytes(result)\n",
        "\n",
        "def bin_xor(bin1,bin2):\n",
        "  result = \"\"\n",
        "  bin1 = bin1.rjust(max(len(bin1),len(bin2)),'0')\n",
        "  bin2 = bin2.rjust(max(len(bin1),len(bin2)),'0')\n",
        "  for b in range(0,len(bin1)):\n",
        "    if bin1[b] == bin2[b]:\n",
        "      result += '0'\n",
        "    else:\n",
        "      result += '1'\n",
        "  return result\n",
        "\n",
        "def bit_permutation(bits, array):\n",
        "  result = \"\"\n",
        "  for i in array:\n",
        "    result += bits[i-1] \n",
        "  return result\n",
        "\n",
        "def bit_rotation(bits):\n",
        "  result = bits[1:] + bits[0]\n",
        "  return result\n",
        "\n",
        "def left_shift_rot(bits, steps=1):\n",
        "  result = bits\n",
        "  for i in range(steps):\n",
        "    result = bit_rotation(result)\n",
        "  return result\n",
        "\n",
        "def create_DES_subkeys(input64bits):\n",
        "  permutedkey = bit_permutation(input64bits,PC1)\n",
        "  c0 = permutedkey[:len(permutedkey)//2]\n",
        "  d0 = permutedkey[len(permutedkey)//2:]\n",
        "  cn = \"\"\n",
        "  dn = \"\"\n",
        "  permut = \"\"\n",
        "  result = []\n",
        "  for i in range(16):\n",
        "    if i == 0:\n",
        "      cn = left_shift_rot(c0,key_shifts[i])\n",
        "      dn = left_shift_rot(d0,key_shifts[i])\n",
        "    else:\n",
        "      cn = left_shift_rot(cn,key_shifts[i])\n",
        "      dn = left_shift_rot(dn,key_shifts[i])\n",
        "    \n",
        "    permut = bit_permutation(cn+dn,PC2)\n",
        "    result.append(permut)  \n",
        "  return result\n",
        "\n",
        "def f(in32,in48):\n",
        "  expanded = bit_permutation(in32,E)\n",
        "  xored = bin_xor(expanded,in48)\n",
        "  result = \"\"\n",
        "  for i in range(0,len(xored),6):\n",
        "    bn = xored[i:i+6]\n",
        "    j = int(bn[0]+bn[len(bn)-1],2)\n",
        "    k = int(bn[1:len(bn)-1],2)\n",
        "    result += bin(S[i//6][j][k])[2:].rjust(4,'0')\n",
        "  return bit_permutation(result,P)\n",
        "\n",
        "def encrypt_DES(key,message):\n",
        "  message = bytes2binary(message)\n",
        "  key = bytes2binary(key)\n",
        "  subkeys = create_DES_subkeys(key)\n",
        "  ip = bit_permutation(message,IP)\n",
        "  l0 = ip[:len(ip)//2]\n",
        "  r0 = ip[len(ip)//2:]\n",
        "  ln = \"\"\n",
        "  rn = \"\"\n",
        "  temp= \"\"\n",
        "  for i in range(16):\n",
        "    if i == 0:\n",
        "      ln = r0\n",
        "      rn = bin_xor(l0,f(r0,subkeys[i]))\n",
        "    else: \n",
        "      temp = ln\n",
        "      ln = rn\n",
        "      rn = bin_xor(temp,f(rn,subkeys[i]))\n",
        "  result = bit_permutation(rn+ln,IP_inverse)\n",
        "  binary2bytes(result)\n",
        "  return binary2bytes(result)\n",
        "\n",
        "def randomtest():\n",
        "  key = bytes(random.sample(range(0, 255), 8))\n",
        "  plaintext = bytes(random.sample(range(0, 255), 8))\n",
        "  cipher = DES.new(key, DES.MODE_ECB)\n",
        "  result1 = cipher.encrypt(plaintext)\n",
        "  result2 = encrypt_DES(key,plaintext)\n",
        "  #print(result1,result2)\n",
        "  return result1==result2\n",
        "\n",
        "def are_random_tests_all_passes(numtests):\n",
        "  result = True\n",
        "  for i in range(numtests):\n",
        "    result = result & randomtest()\n",
        "  return result\n",
        "\n",
        "print(bytes2binary(b'\\x01'))\n",
        "print(bytes2binary(b'\\x03'))\n",
        "print(bytes2binary(b'\\xf0'))\n",
        "print(bytes2binary(b'\\xf0\\x80'),\"\\n\")\n",
        "\n",
        "print(binary2bytes('00000001'))\n",
        "print(binary2bytes('00000011'))\n",
        "print(binary2bytes('11110000'))\n",
        "print(binary2bytes('1111000010000000'),\"\\n\")\n",
        "\n",
        "print(bin_xor('1011','0000'))\n",
        "print(bin_xor('1','0000'))\n",
        "print(bin_xor('1101','1011'))\n",
        "print(bin_xor('10101010','01010101'),\"\\n\")\n",
        "\n",
        "print(create_DES_subkeys('0001001100110100010101110111100110011011101111001101111111110001'),\"\\n\")\n",
        "\n",
        "print(f('11110000101010101111000010101010','000110110000001011101111111111000111000001110010'),\"\\n\")\n",
        "\n",
        "print(encrypt_DES(b'\\x13\\x34\\x57\\x79\\x9b\\xbc\\xdf\\xf1',b'\\x01\\x23\\x45\\x67\\x89\\xab\\xcd\\xef'),\"\\n\")\n",
        "\n",
        "print(are_random_tests_all_passes(100),\"\\n\")\n"
      ],
      "execution_count": null,
      "outputs": [
        {
          "output_type": "stream",
          "text": [
            "00000001\n",
            "00000011\n",
            "11110000\n",
            "1111000010000000 \n",
            "\n",
            "b'\\x01'\n",
            "b'\\x03'\n",
            "b'\\xf0'\n",
            "b'\\xf0\\x80' \n",
            "\n",
            "1011\n",
            "0001\n",
            "0110\n",
            "11111111 \n",
            "\n",
            "['000110110000001011101111111111000111000001110010', '011110011010111011011001110110111100100111100101', '010101011111110010001010010000101100111110011001', '011100101010110111010110110110110011010100011101', '011111001110110000000111111010110101001110101000', '011000111010010100111110010100000111101100101111', '111011001000010010110111111101100001100010111100', '111101111000101000111010110000010011101111111011', '111000001101101111101011111011011110011110000001', '101100011111001101000111101110100100011001001111', '001000010101111111010011110111101101001110000110', '011101010111000111110101100101000110011111101001', '100101111100010111010001111110101011101001000001', '010111110100001110110111111100101110011100111010', '101111111001000110001101001111010011111100001010', '110010110011110110001011000011100001011111110101'] \n",
            "\n",
            "00100011010010101010100110111011 \n",
            "\n",
            "b'\\x85\\xe8\\x13T\\x0f\\n\\xb4\\x05' \n",
            "\n",
            "True \n",
            "\n"
          ],
          "name": "stdout"
        }
      ]
    },
    {
      "cell_type": "markdown",
      "metadata": {
        "id": "hv_li6AnrzEP"
      },
      "source": [
        "##Week 9 - Hash Functions\n"
      ]
    },
    {
      "cell_type": "code",
      "metadata": {
        "id": "ue5CKhFv_Kjl",
        "colab": {
          "base_uri": "https://localhost:8080/",
          "height": 102
        },
        "outputId": "82190c7e-83ff-43b1-faa6-1568547298e2"
      },
      "source": [
        "import hashlib\n",
        "import itertools\n",
        "import doctest\n",
        "\n",
        "def sha256(message):\n",
        "  \"\"\"\n",
        "  >>> sha256('I')\n",
        "  'a83dd0ccbffe39d071cc317ddf6e97f5c6b1c87af91919271f9fa140b0508c6c'\n",
        "  >>> sha256('love')\n",
        "  '686f746a95b6f836d7d70567c302c3f9ebb5ee0def3d1220ee9d4e9f34f5e131'\n",
        "  >>> sha256('crypto')\n",
        "  'da2f073e06f78938166f247273729dfe465bf7e46105c13ce7cc651047bf0ca4'\"\"\"\n",
        "  inputmsg = bytes(message,\"ascii\")\n",
        "  hash1 = hashlib.sha256()\n",
        "  hash1.update(inputmsg)\n",
        "  return hash1.hexdigest()  \n",
        "\n",
        "def authenticate(user,pswd):\n",
        "  \"\"\"\n",
        "  >>> authenticate('admin','admin')\n",
        "  True\n",
        "  >>> authenticate('admin','admin2')\n",
        "  False\n",
        "  >>> authenticate('user','hello')\n",
        "  True\n",
        "  >>> authenticate('user','helo')\n",
        "  False\"\"\"\n",
        "\n",
        "  users = {\n",
        "      'admin':'8c6976e5b5410415bde908bd4dee15dfb167a9c873fc4bb8a81f6f2ab448a918', #sha256('admin')\n",
        "      'user':'2cf24dba5fb0a30e26e83b2ac5b9e29e1b161e5c1fa7425e73043362938b9824', #sha256('hello')\n",
        "  }\n",
        "  authenticated = False\n",
        "  for u in users:\n",
        "    if u == user:\n",
        "      if users[u] == sha256(pswd):\n",
        "        authenticated = True\n",
        "        break\n",
        "  return authenticated\n",
        "\n",
        "def hack_sha256_fixed_size(pswd,length):\n",
        "  \"\"\"\n",
        "  >>> hack_sha256_fixed_size('8c6976e5b5410415bde908bd4dee15dfb167a9c873fc4bb8a81f6f2ab448a918',5)\n",
        "  'admin'\n",
        "  >>> hack_sha256_fixed_size('2cf24dba5fb0a30e26e83b2ac5b9e29e1b161e5c1fa7425e73043362938b9824',5)\n",
        "  'hello'\n",
        "  >>> hack_sha256_fixed_size('a819d7cd38e9101be2e496298e8bf426ce9cdf78d2af35ddf44c6ad25d50158b',5)\n",
        "  'crypt'\n",
        "  >>> hack_sha256_fixed_size('688787d8ff144c502c7f5cffaafe2cc588d86079f9de88304c26b0cb99ce91c6',3)\n",
        "  'asd'\n",
        "  >>> hack_sha256_fixed_size('7ec658e98073955c48314d0146593497a163d79f4e1dfea4bab03b79af227214',4)\n",
        "  'elte'\"\"\"\n",
        "  chars = 'abcdefghijklmnopqrstuvxyz'\n",
        "  combinations = list(itertools.product(chars,repeat=length))\n",
        "  testpswd = \"\"\n",
        "  for c in combinations:\n",
        "    testpswd = \"\"\n",
        "    for ch in c:\n",
        "      testpswd += ch\n",
        "    if pswd == sha256(testpswd):\n",
        "      return testpswd\n",
        "  return \n",
        "\n",
        "def hack_sha256(passw):\n",
        "  \"\"\"\n",
        "  >>> hack_sha256('8c6976e5b5410415bde908bd4dee15dfb167a9c873fc4bb8a81f6f2ab448a918')\n",
        "  'admin'\n",
        "  >>> hack_sha256('2cf24dba5fb0a30e26e83b2ac5b9e29e1b161e5c1fa7425e73043362938b9824')\n",
        "  'hello'\n",
        "  >>> hack_sha256('a819d7cd38e9101be2e496298e8bf426ce9cdf78d2af35ddf44c6ad25d50158b')\n",
        "  'crypt'\n",
        "  >>> hack_sha256('688787d8ff144c502c7f5cffaafe2cc588d86079f9de88304c26b0cb99ce91c6')\n",
        "  'asd'\n",
        "  >>> hack_sha256('7ec658e98073955c48314d0146593497a163d79f4e1dfea4bab03b79af227214')\n",
        "  'elte'\"\"\"\n",
        "  recovered = None\n",
        "  for i in range(10):\n",
        "    recovered = hack_sha256_fixed_size(passw,i)\n",
        "    if recovered != None:\n",
        "      break\n",
        "  return recovered\n",
        "\n",
        "def hack_hashes(): \n",
        "  # THE FOLLOWING HASHES WERE GIVEN\n",
        "  hashes = ['e06554818e902b4ba339f066967c0000da3fcda4fd7eb4ef89c124fa78bda419',\n",
        "            '8aa261cbc05ad6a49bea91521e51c8b979aa78215b8defd51fc0cebecc4d5c96',\n",
        "            'f2b826b18b9de86628dd9b798f3cb6cfd582fb7cee4ea68489387c0b19dc09c1']\n",
        "  \n",
        "  # The following plaintexts were extracted from site:\n",
        "  #https://hashtoolkit.com/decrypt-hash/?hash=f2b826b18b9de86628dd9b798f3cb6cfd582fb7cee4ea68489387c0b19dc09c1\n",
        "  # by inputing the previous hash values\n",
        "  plaintexts = ['cryptography',\n",
        "                'romeo and juliet',\n",
        "                'vulnerable']\n",
        "  print(\"LONGER EXAMPLE\")\n",
        "  for i in range(3):\n",
        "    print(hashes[i], plaintexts[i])\n",
        "  return\n",
        "\n",
        "def authenticate_with_pepper(user,pswd):\n",
        "  \"\"\"\n",
        "  >>> authenticate_with_pepper('admin','admin')\n",
        "  True\n",
        "  >>> authenticate_with_pepper('admin','admin2')\n",
        "  False\n",
        "  >>> authenticate_with_pepper('user','hello')\n",
        "  True\n",
        "  >>> authenticate_with_pepper('user','helo')\n",
        "  False\"\"\"\n",
        "  pepper_prefix = 'this_can_help_to_confuse_the_attacker_'\n",
        "  pepper = pepper_prefix + pswd\n",
        "  users_with_pepper = {\n",
        "      'admin':{'passwordHash':'89e6b5ed137e3864d99ec9b421cf6f565d611f4c2b98e31a7d353d63aa748e9c'}, #sha256('this_can_help_to_confuse_the_attacker_admin')\n",
        "      'user': {'passwordHash':'6dc765830e675d5fa4a9afb248be09a0407f6353d44652fd9b36038884a76323'}, #sha256('this_can_help_to_confuse_the_attacker_hello')\n",
        "  }\n",
        "  authenticated = False\n",
        "  for u in users_with_pepper:\n",
        "    if u == user:\n",
        "      if users_with_pepper[u]['passwordHash'] == sha256(pepper):\n",
        "        authenticated = True\n",
        "        break\n",
        "  return authenticated\n",
        "\n",
        "def authenticate_with_pepper_and_salt(user,pswd):\n",
        "  \"\"\"\n",
        "  >>> authenticate_with_pepper_and_salt('admin','admin')\n",
        "  True\n",
        "  >>> authenticate_with_pepper_and_salt('admin','admin2')\n",
        "  False\n",
        "  >>> authenticate_with_pepper_and_salt('user','hello')\n",
        "  True\n",
        "  >>> authenticate_with_pepper_and_salt('user','helo')\n",
        "  False\"\"\"\n",
        "\n",
        "  pepper_prefix = 'this_can_help_to_confuse_the_attacker_'\n",
        "  pepper = pepper_prefix + pswd\n",
        "  users_with_pepper_and_salt = {\n",
        "      'admin':{'passwordHash':'d3eab7f4d6974f1db32b9cd9923fce9b434b28dc229b6582b845f1fca770d9f7','salt':\"5294976873732394418\"}, #sha256('this_can_help_to_confuse_the_attacker_admin5294976873732394418')\n",
        "      'user': {'passwordHash':'976c73e0b408c89df3c1a12c3b0c45a6fee71bc1de5b47a88fae1a5e69ba6e28','salt':'1103733363818826232'}, #sha256('this_can_help_to_confuse_the_attacker_hello1103733363818826232')\n",
        "  }\n",
        "  authenticated = False\n",
        "  for u in users_with_pepper_and_salt:\n",
        "    if u == user:\n",
        "      pepper_and_salt = pepper + users_with_pepper_and_salt[u]['salt'] \n",
        "      if users_with_pepper_and_salt[u]['passwordHash'] == sha256(pepper_and_salt):\n",
        "        authenticated = True\n",
        "        break\n",
        "  return authenticated\n",
        "\n",
        "hack_hashes() # Longer example explanation\n",
        "doctest.testmod()\n"
      ],
      "execution_count": null,
      "outputs": [
        {
          "output_type": "stream",
          "text": [
            "LONGER EXAMPLE\n",
            "e06554818e902b4ba339f066967c0000da3fcda4fd7eb4ef89c124fa78bda419 cryptography\n",
            "8aa261cbc05ad6a49bea91521e51c8b979aa78215b8defd51fc0cebecc4d5c96 romeo and juliet\n",
            "f2b826b18b9de86628dd9b798f3cb6cfd582fb7cee4ea68489387c0b19dc09c1 vulnerable\n"
          ],
          "name": "stdout"
        },
        {
          "output_type": "execute_result",
          "data": {
            "text/plain": [
              "TestResults(failed=0, attempted=25)"
            ]
          },
          "metadata": {
            "tags": []
          },
          "execution_count": 7
        }
      ]
    },
    {
      "cell_type": "markdown",
      "metadata": {
        "id": "122clgLObnND"
      },
      "source": [
        "##Week 10 - RSA"
      ]
    },
    {
      "cell_type": "code",
      "metadata": {
        "id": "0A8fICtYvjcM",
        "colab": {
          "base_uri": "https://localhost:8080/",
          "height": 122
        },
        "outputId": "123c5f9b-3389-4b1c-9bb8-4bba27c278f8"
      },
      "source": [
        "pip install pycryptodome"
      ],
      "execution_count": null,
      "outputs": [
        {
          "output_type": "stream",
          "text": [
            "Collecting pycryptodome\n",
            "\u001b[?25l  Downloading https://files.pythonhosted.org/packages/af/16/da16a22d47bac9bf9db39f3b9af74e8eeed8855c0df96be20b580ef92fff/pycryptodome-3.9.7-cp36-cp36m-manylinux1_x86_64.whl (13.7MB)\n",
            "\u001b[K     |████████████████████████████████| 13.7MB 312kB/s \n",
            "\u001b[?25hInstalling collected packages: pycryptodome\n",
            "Successfully installed pycryptodome-3.9.7\n"
          ],
          "name": "stdout"
        }
      ]
    },
    {
      "cell_type": "code",
      "metadata": {
        "id": "DKw6et8EbpsM",
        "colab": {
          "base_uri": "https://localhost:8080/",
          "height": 459
        },
        "outputId": "d43b6246-8780-4840-89af-064902a92876"
      },
      "source": [
        "import random\n",
        "import base64\n",
        "import doctest\n",
        "from Crypto.PublicKey import RSA\n",
        "from Crypto.Cipher import PKCS1_OAEP\n",
        "from Crypto import Signature\n",
        "from Crypto.Signature.pkcs1_15 import PKCS115_SigScheme\n",
        "from hashlib import sha512\n",
        "\n",
        "#Given precomputed key\n",
        "p = 11003378959096834724676546774061387323366640315376248759704778733861819318638880334019013198255253637201505215283454116581559061011493945035043282347726567\n",
        "q = 13352889525665842987778367770008624367016738648357150498263337383873676994755016453139838515936896298380832735119884881555123452210776892442746292021125831\n",
        "e = 65537\n",
        "d = 69357425854335667435469380960551384845473529705172208755274378055130556220144321336280182386572376501722777078239543992605048261113781725370395014753635278111987701312950756882999549218951256463733424485080811858880863848299798658061367375851385442141410733493910441693585064588874291332393795622978366749253\n",
        "\n",
        "n=p*q\n",
        "phi=(p-1)*(q-1)\n",
        "    \n",
        "def encrypt_RSA(m,e,n):\n",
        "  \"\"\"\n",
        "  >>> encrypt_RSA(1412,e,n)\n",
        "  86570912637207688430658050442534138686860113447750593750129115867611069795980400149875084938172511059077111775763831984800728158009625476246509869646143906270016350813522907485120229804954044822840485338235665911639144492389863191230410694146471337610863228296869316878318424832455813948760206789878680061806\n",
        "  >>> encrypt_RSA(423523131313,e,n)\n",
        "  83815489698949425454503411340462271441833577560361070073340854340767697288862182622524598818990559851595417109271788865693175864183668088463270319213547090274280405302127646890044893707234611412838644930391470657208403905675470886164666899520786460799826428450507750448082240371010595240565614073056710598296\"\"\"\n",
        "  return pow(m,e,n)\n",
        "\n",
        "def decrypt_RSA(c,d,n):\n",
        "  \"\"\"\n",
        "  >>> decrypt_RSA(86570912637207688430658050442534138686860113447750593750129115867611069795980400149875084938172511059077111775763831984800728158009625476246509869646143906270016350813522907485120229804954044822840485338235665911639144492389863191230410694146471337610863228296869316878318424832455813948760206789878680061806,d,n)\n",
        "  1412\n",
        "  >>> decrypt_RSA(83815489698949425454503411340462271441833577560361070073340854340767697288862182622524598818990559851595417109271788865693175864183668088463270319213547090274280405302127646890044893707234611412838644930391470657208403905675470886164666899520786460799826428450507750448082240371010595240565614073056710598296,d,n)\n",
        "  423523131313\n",
        "  >>> test_result = True\n",
        "  >>> import random\n",
        "  >>> for i in range(10):\n",
        "  ...     test_case = random.randint(0,100000000000000000)\n",
        "  ...     if decrypt_RSA(encrypt_RSA(test_case,e,n),d,n) != test_case:\n",
        "  ...         test_result = False\n",
        "  >>> test_result\n",
        "  True\"\"\"\n",
        "  return pow(c,d,n)\n",
        "\n",
        "\"\"\"\n",
        "print(\"n = p * q = \" + str(n) + \"\\n\")\n",
        "print(\"Public key: (e=\" + str(e) + \", n=\" + str(n) + \").\")\n",
        "print(\"Private key: (d=\" + str(d) + \", n=\" + str(n) + \").\",\"\\n\")\n",
        "\n",
        "\"\"\"\n",
        "#----------------------------------------------------------------------------------------------------------------------------\n",
        "\n",
        "ciphers = [\n",
        "    b'fkQKtKSJR0xafjo8dn8o8yseq90I30z1jofzB0Qu0SiUosyKzqNYR9Oh08zgnbK2/C3j8pHyGK7kadH6aFHCQoVkDUFva8H5jJcJbCfJj8u4z3396+acsqPhVeGg6M6L/nyygsTz2aIB7+tVUkVZiqwZK/p96xdAlB4gOqIDjBFyVBJDAPOi9NMBW4nyPdK3WhqVtXCDWoTTqhbSWrJcm7FcMQZlai8XT5C3f6TkUjf8ktyZWj9yZHWlhdhf8HKtdSq4y3VMWKufYa9EbYVEDoSF2iGxe4CkOv1QiNqjDLllT+tdULpm0EAa1WtJhG4LoWPt4TEW+0KVDJrg9Xcgsw==',\n",
        "    b'O0d5jJC8X8OPc9jFG0eHHEGHxXTqc8tuVFMShxCn3rrBBGOShNO4Kx1nfnoL8SvQjGMdSNV64xh53ohwMGZhGVlj9FL4ydDrWhc0U74jI7REQODCXdXWZxBB0aKn/rPsPcL9h6957cof0z6H8XJtpTYcpgTV6UthEqwGIvf2qnxqpGC8WCbKhuXjqxX3JCmfBOripqiN/XgjNhpET2AVXEVJayo0dW4RTLi6k2VctXhkhK5YAfB94AbaEIfpuJiMfqMEedkle1YcMVI5tsMN1KwIcLkvBTctT6vvNWr+YXD45WlpZo1sCTpVsBfSU1vqfzxkOU3mdHKaCMOADxok6g==',\n",
        "    b'TcEAH3j8dy+ZlkV9hpD4G3PXuHNnOBYsEjt9OGWsaIU03D7EA+L0BU8/1QRAhemC3l2jKChmQXLRpb89dpz2yJCM6JcFPT/nMRNmXxQD9l3dqmwdOTWlZ03SXa1IrQoSfOSzwOOmeAI+7Vs+bypJbPKIoOLxjtHNnDhWkSJ23Kfk1Gi3Y/XqhZgyFxejY8k8eg7PfLXU62S/zVd6T0HmDljV2w5iQqC8mgBLCr0ZFwMY5U3/NeWxxbZih1cgN1mk1UgE/PeshwoBr/VQGTZgsyOcq4BN3R3LpDrFFw1eP085WXsC+il6Uoe8rEod3MxfaS9tisFWiXfcf7xU/VzQsw==',\n",
        "    b'MnCqdOXNssZprkjwlymjUC2qhmhoRdYoCl6m2edKw9bRh78KjvGWzXVMbAYxQRoMcpfPjrBHnuirOwU/LceNLnHGN/mTuWkf72erfhzIYvRcyvMNiAn2uWk6c31gO3Opyc30T7HcjxGxzKaMtAP899t3daEIH9SkJ1ILo4X4wnVZTMOzK6VpBM9aFPY0KKanjryaPgcbkPH8pT/BiRnDZpVRX7lkjxuK4mEQnYTNAJB6iZ/aZlHdlYo0M9OKR6FJSJcnl6wGh5wwxqg6JmW1Jv1cIZviibUip97hUNBmUgZcRT5gFLlnUBLZ/aON2BVJPh0DyBFGi0jvJ7bbclGWtA==',\n",
        "    b'UftzvH2m4/rtFsArr2NdUC4fSUZhTzqwwXiuesX+eLR5qWHrRE91bUWxBSVi5xR67u5JcCsffzhro4ipUe1vgEyGhJTYxYOHs4P6TraTH0P0r9VFaD5PckaZsz0ClFbnu/iCUMvzc9uBdob8JYosUyJiUFinnzzLR5Q/YPjnoabjh7AdxHEZs7rHKeY9Tim+rsfpxvdtzUgw6ktSotA2QxuyOshcPxjXTTdriCI/g5IxXi/jFbYG2yazbcptYfuY/gT5NAIduIM1NMpDVP0Tbi+1Fo1kzU3AFwMwIM/6EpysnqrlFJlerwFBTy/qnUNKznjdJNsUzzkvRZ1+XEfzHA==',\n",
        "    b'f8OgNf/XhUmUazQqMwRbv2lNH7pFk4/SNagr6JOm7+E+ZJuW0WrSpP9qaTxSsRB7a3OsjKwR5o0JixWpcp8JHr/E7FMnRL6TFQlU8yGJFNy8HWxi/jAdGm8fOvjsdwqw/yyA6ilTIHbBYctYb3LvOLCpRKbFKba4c0jAPSISdbEpP7Un7lmK5HGfPVhQ3lSB9Xp+8AMQYSL3RXp36Bxy019QWk6Q5CZj6e4e77sWLHxJd22eAV8nyV0HIxg82oEeXV+vcpy3kk71D1RbKeFSshTzLcu0HWmUfaAIROPrxsgWHzWQEY53OrnfpxWbGItJ2xAdPXJvGosLgE4lRBAHaw==',\n",
        "    b'QzSIAj4kOCdkjhYX2kNoRxybIDBt8ckJBDYKx3th7TWFkGlnocYV7xgqa7xsCp1xyXkf3IltR4LYwLWwKKHblZ1DIICok3/6GpQ7VJ1U2Ym/ZGrOQ4w500Gv73giUL1vzNBidmmOJaq2qz54Q2xaHtY2urXa33xhiwCBxM81HpvjNeJvj1IJ09+9qGLk+QWNbNjmRrCDechbaMu71I4Zb4RPMI6uHIkSZzsoTkJAg3+IVbCc57OpjMQb8K8oL/BZePtIaDxvAI9/YxZLVeZSeuN7LjjZGUcVwCtVjr8athcfD6SDIcOAbrAEYiNs2LBdMC0IglmK5p6DFhtG8sTCbg==',\n",
        "    b'C2aJcd9kgP5WFK9XkFUJKLbanLMcAoAV0aaI/1hVfkTB1O++jeNagyLgMtAN8RtC1ucDf/ThIrHU4o7ag+mjVkXUUFTK/gimPQl9wnoHRDUZa3bAik28kdF4Hf9Jj4fzTS+vQ7yvC2DD1XdWcKMucjgOhzTlihSmDkEvGZmhtmgfc3H5fsi0CzjW8rLJVhvtKsmNTWXz49slBixc9AEYiliox1kuw5SKMpgcnGW0pwQqrczAaNg+Y//ltKz7xYR+oDagkIlSRQOUpwfMdn05flRyNAhdWb4+aM/R6atSiNaJtBO5byabU0N/fXc2zhsajET/yxEuqIa3FGYUzv18Zg==',\n",
        "    b'CB7QphKYRp5O7FajF4oEDMnQg15U9uSyQN2Lb3+ukN3ft4T/nHf1Bv5eSpsXWtDQGNVQh/6hluVK2ExLEjntpB9IhCZHKYDH4d5AL6AQs0AWpAfCoIAWKEH51nFA2rFWg7pa7V0Rh95cYXvLMGR0xlQcqXJpKVyv4EhD4nPXtrSSbwap/TlyoVCk051GDqEmUQuflONCJIbBEAioRc2pzyJ03oiiK3H6IMni6TAaqPG1HBOQYT1TbX6UpVWQm5gPqqFp+XPcOec8SlhyPMufrXBF6kawxGhQ4Bk3xHNVmE6bxCmlFk7095QIzJnbpCx3DRWvV9CT4RfgIxW1qHwSXg==',\n",
        "    b'MQRaAwwloljDgzH+wTtY/l16l8oBpggykK9ld5mckuvTc1KcjtKf58r8QTADusZhPPtUlsvMVlomh9WoPIhBmm+o0q4IhBzob35jvtBSKlJlgcRYUee0+RZBojIQaKkMe2OFHsT1Fn4IK4KejVZiVh/GVYkbw7CJAuQW56pKgXHOQOTRNj1t6TD+KstIYSZ5Y0S17IYo9EB/f3jUPxmLLPlp+fuYz5lJIVKsH3zh7UJ19uuQat93ezuI9j5f/FapGuw0704zBO6ufmkM9BAt3M5S1CDkJqs1Ve6XN/EruMyqZK4snumhkB9KRl+j9KKwOVL1MkM/2EDX420iRh31oQ==',\n",
        "    b'ozp8X+E9VGx/IAwVDhyNwacjMZt2xTSa8mqlIERO5qXTCPcYpSMvzidxybZyEJP4047cMCXz3aePO6oUYlW4Osry9El95p0adeoUWBkaiEIRNuHcOM6rO/oFUTwiKavmEIEdDFI0t4F1FBHbC7p+j3H3a1Izar7TMpHiJ+UYyqt2SAetjCmgFMYpUpe8vdLdU4Gcujf/aMt32wmzFXvg3q+DGHAL+NvjjBj8oJ6GzKa2nsfWEBiKRZixPMlV3H4D4hUhxHQOWALjhKfggV8zFZR1VHp1r3/jOdF5shgHIIM+j0gxPW/MfvXmoMPCqQyMmA6AAjJ7nEai78goEG44Ow==',\n",
        "    b'TN5a8ejPt7bBR8xldIDFZr1ytNFPcF6FVmHURymlENJysXa2CKp6PmHy6sjFCVulngRuWbm4snOgOa4PxFjic7FNVAO1oWm2cEGoolVQQQ+zdGIhpHZLLwIDSnCCHev/sgF/kUHG9ZU8meid3qjXC47IQ6637yfvElNkZsYEIam4qiaM/I/fa9Cyfoio+uBzG8RBiHudFJzwy86/icys8TIUd7bxKIXDvRem2eqOtADbbnF2rPl8kiIg3c5Cv4hssCT/jQqtzEf+FApTI5jwPL6dDHhP6wrtllB/1nCl1U3JyfWte0iicxDJSQPOcfVvf/8Kne7d+9ud5KgOJ/m04g==',\n",
        "    b'B1CKW0KBqoit4aWueBVfA4RFLisrsv5h6DH4okH29svYAJKV65SW5+GJd+bWyESohdtdnqRegSQZaaslLiQg6Z9pJIso3P7EfmYyioajsDfJic6KNazagRo1kZjNqrzD0Ny0SVPQNmXVEJsejZvjkDt97tqnLhyy1soR5Da3zvMVQgQ7m/OH1rStcikZHwTPCeytLM60kBRYRREDrcU+urkEokkaVOYXN5Zvg9dUhhoSl3ohKU+rJNBFaySAre70ffMSN6mPy6gGmaHRIhgoEl9RsaDp3nVAyJape2UjRIGdCFqV5Wd4HI1fy4OOMDVxjbUJBih7mVzcHf9CHszuvQ==',\n",
        "    b'KeswSWZM0DitUpwaab138tWVq0p5vWurWnFTyBS7gHzEWIHO93YSuMbYmVkyYunC1C74z56WVwQPUBZszW0FztTFi3nxU3nol1VjJfs3lncx9H+xk2P497dm2b/PTZoUMLS7BNBgdbZCaX7G/de6aG+hLKIlVq6xFT8bGF8rYMt+hD4CET3VjCt3tgjF/btfihlLjDyzqPcdqaUtSJzQm4uawCPX6R0P2LVy7O0GyWrXAccTi2KFnsoaXdnQsSlKE+zbiQwcS9OaYnEeGlYcb0YzJfrchRFI9a/ulhWrcXI8f7BR3lR956Q9izTAEja8QmW4a02dBN5m41y/x/ztqw==',\n",
        "    b'LF/PtlCw5e3Iv4ypakOchSe0MTFsJ7wqzz09QerFNx1mJAmyHifuUUzrUAM+VEHI+MDzSkUc3hdnscmMxVy/ZJpWfFc3UqmfNdyESFBZfnRq2SHm7FrYzREQBWBzQz5DCVSSasx4WF97TEY8ajmeR6LiB2xSFtcA9BqXZ3TEXAlwlLnhqa9wi0ihX+lmdvCySuzz0cq3ZsHFBoNGCdhyC5ZfjLzi5wfFWPAkNi+RH7ciMQFtm0rbGr3wZ522ReeToyIzkCFCWQukl0dqt8mYwSPSWaZbdlQYxIMN9UpNwiEVU7jWoaMDxPrqdIs1SF0ejV261YhyVgIejh7XkowSnw==',\n",
        "    b'BlFHM9RGBbVCJ7b03cyooHlv+DsrNUokP2CR+bCkI8cbueZpNBN0poZYafMv7qR4D1eayyvVrwAOCj9KGHKzJpkPnwjg4thuXnH/ZEinsqyVvbg7dpQSzRsM6dxH75whBofJXvzabzDIpORDn+QG6RGxc6VLdQyAUQ7LWrL6D7GCMwwO+AHhid+4r23jTGYncbotwmDsv4YS3aoNhbPFHBzni64i1SeZUnMDiVA46zsDDbNH83V/glo6mTFl7xy2BYak+ohMDJiiNbrVdT+NF3nOD+jIqz7vBsKItzN5NEtaQMkubE18vqCSLgFcaoYLKkI1SB5T/g9fhILtcuxipg==',\n",
        "    b'Zs+afNP9lHzPPUEOJLTjnQGbiisGy0s2cNsX6I/fEP7/maL1T1gSyAkeKrg3x5bYbep5YNMWOTqIRpXevnGnFvB+zqPw2te3E/saA2Y8xnJOSd1bVLoa31EuLF+H4s7oTSjdJDZsvjP5I7ARZanPOQiru+PCCp5oo/Ab3UladhY5As7bEw7A+YEfKERLVfinj/dX8IsaNpuq9BkomvyyxGTiBjRFHGHrZLML1LowoLhcOZ0Z/vFeIr7rhl8S93hzfeBw1RhIAN74k0F4POBNWNTt4CljTABV+gvvglv7rU1OZWMk0LAzP9bTrLXFAEYcERe9OIRJV7hnVAlljmUa9A==',\n",
        "    b'xreXej7YGEo8th3+CYLMG2RTx3zFETLtlfdYB4TDdIj4/DZ5MOmp7jMiS1rewXmJLAKE1YATXBapNnp8IuFgjURzRxwQ+tlIOA33BAd9t4yLMn8W2+JUcLHOVOcDjVviqOOE9YKsIDhIDQVkmHV6XnvqyIUveA/vH4J/QOQuLV9cv+cmCpBD9S5wL2NyhqhjzTUvrnJq4MQg2b6ZnGjASaecAeoYu3VyG/60N3XBzY5+f5CIX8JfjEJ0ZXNwMhpigqoFFmv1FIFfi4+ChgSsdj5f7o7C2ylU+vo1ao+lrTgtqnI6HzSUF6uAuD01ZjT46aLRfVfsrFilKoIUoAtxiQ==',\n",
        "    b'ZBdRxsGAm5PJ7QiCAt/S7FUU0Qqdq+6Gap6IDLCdjor2W3Vu4lEt+tjazmJXJ4FUwVc3yW83xejsRG/XbkAQu/AunZPN2CRdoDkRUNWghMY/muDPuXpkiLTbvSSq2fb0aGtwfCceXS2SkN8aIZqOQddqS+jhaoVzRyblrbsZGFcQCynXzoI7jZBvBrnfH2KOsPM88JiqEWvDQltYWTg8j688GAcH3FsAuXhkmj+8EflbxHR0WvC+srMtQls4Oqc4PrJ+UuToL/ezHK6hLfTo9sujQRhlGVnFdcojBzbW+n84fubBuqAHMXkZzdSyjicGlLamYa/btppPsJ8MFNGYCA==',\n",
        "    b'SYapMoN/T/5/tRQlZnsISZ9vtKmMZnEK5kq4x/WKHnBhDZTtzsYpwsB7r49Ee3TvnkbJo2S+FQOdhcslceQvIG3W7kdc6CvJ/3P5LsGjCijvTOtiDPjXlzRrzYyksUKfG1KNfCaqgTrNxiTGO2/9uKX5/ZcNpTnVO8UpV4HAodyOEUsVOGo+WP25Pp+7BEpOkSGqTjPFz/pwKFIl7N50EnPYjfjwIg12+Z5KyG7bXJbTN5sAQwEylf7P+KaEGk61A7SzJFAd8TYMx+0pC4ibS7vXh2NoBHx4mh1VoDnxfihklLEW+owaogJeD6LvKzajNo+QvEgtQvBp7caBV2K/ng==',\n",
        "    b'cgUEyPODmmGvNExGXEuWYI06GyGeSNTefk8SrW7qDJBDm2oYOsoRjmC0xjeguWlGsc2TBvqTOXlSMvOn8wlCWJc+eJi5/XqeE+Th5CA5lCrd7ATlZSh1gF7PU46kbHr6WDAfmQvYayFmLR9IgAefjAbrHMDjsMkoWHN34JliQQCCcrG+N0OZEW1Qlar08pblRadRcWJ9fY5gZtO/ug2AsY6CZr65ueU2GonupzaXOJLe5hb4NQclk38mf5sr/BAFni623/ES1xHO56jkReSgZ02isrxF+sjIVMimMuElzx5A7Hx8scEY201qA0eCE013b7WaS4t5lUKjHJKJALyMlg==',\n",
        "    b'LsriyazGHs06tMujKcDSKfvg1cmDgV3ml2Gx0qA5m0AAl5W4T3c3Z1kGdOrAeG632oX/aTGOpja1f85pmlj32QrNqdWT56cyTrj40c5ougHIhpJjaiML0cc3k0LeGMjSZtlznUCLSyKgZJaa2tHBFSsY2kODwtNlpBQf+IWE73NceQaNaQ310mbmV7u+z1nK+zq1ij3dsEloprQujR9WRYzQZIDtti87iIaLe4tb9XXbEZ0eREx9tfDP1QCEzuzaC5txnghX4bR6lMgporzp/5Rk2cq1C2HVQZuz0rBRdfMfRdC/nLLTzo/JveS4btnk3aGt4KPw7WKea3hzErxNBw==',\n",
        "    b'bFWuwPKVYnjRuxYGATyZvTA1XNFAmjjtBpp9be0y0JNFD+Zd/XvJyYTPgJbhqxhc8+aeXs3iT66a+oxplWpS/T0T0FmLVAccLdwYi7hESfg7F4RZJbyLSDKTUkslPTF87PjoJr579lxMflutx6shvkAZm10p7KbCHf20VOcmCK/AaTAvf10/HBo4Ex4Z767fMAnjVRK65fQBE6/7cPzSCXg3L37NTeiv1WHoaGv2Xx6+GbkxyZikYb7ZAVL+w5Log9l+3HvILYWCNHPSwUnnszaoqwzoTmwDrUkARd8L2z0YS3DUQJUO3Q2+mVGj6+y4fe+SGGq13VRP/0uy/KNyoQ==',\n",
        "    b'IQHoYovLnFq8J+1qmB8ZQhaYsx99RKfKYnjmIsjPgdcGeQAQM8jqN5T9xYr+XNDQkZCGVhLpigQ00FGTi+lPnx7RJUOGqtrY6bZBrGO4xmZb0MdfKc1BdQQnLLUYkOwow86Y3pSUM0047wPOkDroqiippjrI8UDkya1lDruEihawdGIlVSYwrUfRUGUR6nxQmGOuyQB7fj+MhCRy2MNh/hu7lnfzTTCkHK2b25cjRGDa1p/ePajzuyQGbkf5fF5yybViYiS5lA9DG7Y3GMH76BD05lwbWsfFTvJmP3+XoHD3N4ZGzEZydHJbnnvE8rXW1QYogJAy+HWdQdETt7smJg==',\n",
        "    b'd1rZcRrhJHADTdxVpX3ij+/F5/jsCq5I/XEy4b5CR8I7XQBuOKhHn9YS5dUKPEQeIZUphiTdrQNJwn/pp4qlDJJtODcAN82vB6CR0DORp7zPXCiLuW1aa7/THccfFRGGOP44jdcRoWDSb335IwY28Ubl886RUOEAV68Q7xzt4GtsZujr7Cf9sXfvPO+MTgBMAcecJRirqa6UoWfuRZGf0LXSwozynO+skJRZhpJuR9lq1/yEL2Dgx8ycl145EgmMrYkIbfm53SD/QH9tYYYILRl7rbq44M1emNtL2GIImNBmu9d20HpJgtDw9794sNqCtXE4zdqS0DmeYcsF7SEMxQ=='\n",
        "]\n",
        "\n",
        "key = RSA.importKey(open('secret_key.pem').read())\n",
        "cipher = PKCS1_OAEP.new(key)\n",
        "decrypted = \"\"\n",
        "print(\"Trying to decipher with the given key...\",key)\n",
        "for i in range(len(ciphers)):\n",
        "  try:\n",
        "    decrypted = cipher.decrypt(base64.b64decode(ciphers[i]))\n",
        "    break\n",
        "  except ValueError:\n",
        "    print(len(ciphers[i]),\"Decryption failure. Try again.\")\n",
        "\n",
        "print('Decrypted:', decrypted,\"\\n\")\n",
        "\n",
        "#----------------------------------------------------------------------------------------------------------------------------\n",
        "\n",
        "messages = [\n",
        "    {'text':b'The code is uehqn', 'signature':b'IZceGm/mkewdAeS3wc+Qhk4L/55lRe9L2NwUSH2o0wSDnDnKnSMDQon+bLLnl6pvUtEhpjZoDGvC26TMRg2dXCDZiocNnFPMbBSa6nc+4yaDkbxtHWEhuXk3rOtbHagr8MQzuKBK0CJeZ13i+iMN7OLVpTsCxNpP9Fx96I8t1OtNAZq4yIz2f0MmAvDMdqDSnuX40RIzq11La8xuJPuCO872Y3eBFyPWFMxbpghTtlCQqcdyIy3EmBbnskA4Gw077TzKZJ5V5ntUYdVercSpJ9Ax0mDd/xmYFTmUHmb973NvIzlf//IJ/Q0IDdQObEvB2cVQpqeCxABpsCfxxJiBPA=='},\n",
        "    {'text':b'The code is rplps', 'signature':b'fcch/RNP8K+Hqe7ORB6f58gAnPhA8kz35j33MqvxGz72YpQdQXicPCWYcAkqs6nM0tQ55mNqhMta+RSGtsYMFndpriKTZRXngPHS+CpFbNhIonQll+7zmPZXkEdNoB5TcdS7vkt26j+xn1u6mlCQgctZFa1RcXLZewkfsoofNt3e/1mqoE9MqZdpNgt+od8RQ7eKNMTrzQuTeabpCWcCgW12gBFoGRNG/cBUZKeskxwM264aaCgzgijcUCxEaN9lJDUvSmTDtncWlVoFt3vN8A8DXUzDUMOLb7sZca7p5U/aiJ7g0LDetzjK9IDWGAVqUa5rLBUGiX5B5uXcg95yrg=='},\n",
        "    {'text':b'The code is zhijc', 'signature':b'Fwv9XATss7knUy+nyUU05E9bJS6zgd4cPMn7hbT/7mhl+hV7l9LP0A9ZJTNVwX1Z5tW+IrCPyPDFROtjmsGFmqBD5nmbDXp6YIZnn1atBG6mnlUQZ4F5Ph+vvvQUyB21r0fWWQ4m4U96V/SQ+/FK08NYj8qYplibZqXgKkszAF6dwIJhAZ8KVM8l8LY6djI5vghhtvd/RZuyig6PAqx5iY9nB/je1IZO3ntIUp+LfuIcHS5X6Vcc40okWAsQd8mDYzftvYUJnkcnxjfPUxgcJoyChC50psfo1LaUqsWRu2Ck0fC5DjiKj4tePf2sjenib9D3Wc8xuLkS6IyTQQeAyg=='},\n",
        "    {'text':b'The code is ylaqd', 'signature':b'IL7oELlFaFr8FqOPc/1n3ATZufVsJFW47CGHpJu+zfp1K0YeOwWthw31MEAFMAXqg0DRbR14VEly2LE2MQxqLGjbf+cZE9aNBrck7GDtFeRz9G3gGysHanz9NoM55YbR56Fs+olj7BDxUnaF51wCpliUG+kNr8ApfxT0h5Nd8+4DIAp1rhzovrg7WZXPeOGE6h/orpizlbj331WGhKvimUGKjMannwdOtTnuU7ht5UGnZWIDs0TsXGK1Bn6a6ZcgNu5gl7emk1IbR3LwnJLOI//xj3t6RWKinDHdzwmaWrfwjky/UrFMMs54qgJWmGHB9hpEHcbHLJ1LvJwKOUDuqg=='},\n",
        "    {'text':b'The code is bvxie', 'signature':b'pYjvtm2Ibjzvz5x1zmsHk60yIakkwXOJ2957auW2IAS2TRnsRTBSSSOhZdN9gixVL6YfpCs7AhgPS4u+ZLX+Y5sZIpr3FZHzRU7WGboYqxBWa8sOSXmOj+4B9v+r+A9mBAtHobdVIUmAd/FmHH9jHqSyGXRJw38mjkOlENTmjdwwKzPKCMcpCpVEHx9DzxzR4ELNtk5HtgRbBnjSxXJDND6kA45/IbcvPdznTIO42p+4J1tlKXKp283Wwlg7g02gSiboM+cVyt3kMjuOTYKG+DIIDcQObzgY3W6fWRVSGSIZaaOdR54ll6Kn79zG8W6nUjxUIZ9i1OMfT5G08zBfLg=='}\n",
        "]\n",
        "pubkey = RSA.importKey(open('my_friend_key.pub').read())\n",
        "print(\"Trying to discover the original message signed with\",pubkey)\n",
        "verify=\"\"\n",
        "for i in messages:\n",
        "  text = i['text']\n",
        "  sign = i['signature']\n",
        "  hash1 = int.from_bytes(sha512(text).digest(), byteorder='big')\n",
        "  hexnum = base64.b64decode(sign)\n",
        "  intnum = int.from_bytes(hexnum, byteorder='big')\n",
        "  hashFromSignature = pow(intnum, pubkey.e, pubkey.n)\n",
        "  if (hash1 == hashFromSignature):\n",
        "    print(\"Signature validated for message: \"+str(text))\n",
        "  else:\n",
        "    print(\"Signature failure. Untrusted sender...\")\n",
        "\n",
        "doctest.testmod()\n"
      ],
      "execution_count": null,
      "outputs": [
        {
          "output_type": "stream",
          "text": [
            "Trying to decipher with the given key... Private RSA key at 0x7FC2C825C5F8\n",
            "344 Decryption failure. Try again.\n",
            "344 Decryption failure. Try again.\n",
            "344 Decryption failure. Try again.\n",
            "344 Decryption failure. Try again.\n",
            "344 Decryption failure. Try again.\n",
            "344 Decryption failure. Try again.\n",
            "344 Decryption failure. Try again.\n",
            "344 Decryption failure. Try again.\n",
            "344 Decryption failure. Try again.\n",
            "344 Decryption failure. Try again.\n",
            "344 Decryption failure. Try again.\n",
            "344 Decryption failure. Try again.\n",
            "344 Decryption failure. Try again.\n",
            "344 Decryption failure. Try again.\n",
            "344 Decryption failure. Try again.\n",
            "344 Decryption failure. Try again.\n",
            "Decrypted: b'I love cryptography still' \n",
            "\n",
            "Trying to discover the original message signed with Public RSA key at 0x7FC296200FD0\n",
            "Signature failure. Untrusted sender...\n",
            "Signature failure. Untrusted sender...\n",
            "Signature validated for message: b'The code is zhijc'\n",
            "Signature failure. Untrusted sender...\n",
            "Signature failure. Untrusted sender...\n"
          ],
          "name": "stdout"
        },
        {
          "output_type": "execute_result",
          "data": {
            "text/plain": [
              "TestResults(failed=0, attempted=33)"
            ]
          },
          "metadata": {
            "tags": []
          },
          "execution_count": 16
        }
      ]
    },
    {
      "cell_type": "markdown",
      "metadata": {
        "id": "9Xxt-e3d0otT"
      },
      "source": [
        "##MOBISEC CHALLENGES"
      ]
    },
    {
      "cell_type": "code",
      "metadata": {
        "colab": {
          "base_uri": "https://localhost:8080/"
        },
        "id": "7IujZxiMk4zb",
        "outputId": "2c2aaabe-c6e6-408e-a9e6-f4fba5263d5c"
      },
      "source": [
        "pip install pycryptodome"
      ],
      "execution_count": null,
      "outputs": [
        {
          "output_type": "stream",
          "text": [
            "Collecting pycryptodome\n",
            "\u001b[?25l  Downloading https://files.pythonhosted.org/packages/2b/6f/7e38d7c97fbbc3987539c804282c33f56b6b07381bf2390deead696440c5/pycryptodome-3.9.9-cp36-cp36m-manylinux1_x86_64.whl (13.7MB)\n",
            "\u001b[K     |████████████████████████████████| 13.7MB 10.8MB/s \n",
            "\u001b[?25hInstalling collected packages: pycryptodome\n",
            "Successfully installed pycryptodome-3.9.9\n"
          ],
          "name": "stdout"
        }
      ]
    },
    {
      "cell_type": "code",
      "metadata": {
        "id": "d-HoRGF915p9",
        "colab": {
          "base_uri": "https://localhost:8080/"
        },
        "outputId": "fcc6a132-4d14-4825-92ac-d6c92c8e313c"
      },
      "source": [
        "\"\"\"\n",
        "Expressions for Java .matches(): https://www.jrebel.com/blog/java-regular-expressions-cheat-sheet\n",
        "Decrypt hashes MD5, Sha1: https://hashtoolkit.com/decrypt-hash/?hash=2de1bdc5673c20ffb2a57e359064a6dd\n",
        "\"\"\"\n",
        "\n",
        "\n",
        "\n",
        "import hashlib\n",
        "import codecs\n",
        "import random\n",
        "import base64\n",
        "from Crypto.Cipher import AES\n",
        "\n",
        "def computeMD5(s):\n",
        "  hash = hashlib.md5(bytes(s))\n",
        "  result= hash.hexdigest()\n",
        "  #print(\"hashing...\",result)\n",
        "  #print(hash.digest())\n",
        "  return result\n",
        "\n",
        "def encrypt_aes_ecb(bytarray,key):\n",
        "  cipher = AES.new(key, AES.MODE_ECB)\n",
        "  return cipher.encrypt(bytarray)\n",
        "\n",
        "def decrypt_aes_ecb(bytarray,key):\n",
        "  cipher = AES.new(key, AES.MODE_ECB)\n",
        "  return cipher.decrypt(bytarray)\n",
        "\n",
        "def findvalue():\n",
        "  found = 1\n",
        "  pin = 624000\n",
        "  while(found):\n",
        "    hash = computeMD5(str(pin).encode(\"utf-8\"))\n",
        "    print(pin, \" hash: \",hash)\n",
        "    if hash == \"d04988522ddfed3133cc24fb6924eae9\":\n",
        "      print(\"found pin!:\",pin)\n",
        "      found = 0 \n",
        "      return\n",
        "    else:\n",
        "      pin+=1\n",
        "      if pin == 626666:\n",
        "        print(\"MAX VALUE REACHED\")\n",
        "        found = 0 \n",
        "        return\n",
        "  return     \n",
        "   \n",
        "def breakattempt():\n",
        "  randomlist = range(48, 123)\n",
        "  characters = [chr(n) for n in randomlist]\n",
        "  print(characters)\n",
        "  stringattempt = \"\"\n",
        "  for c1 in characters:\n",
        "    for c2 in characters:\n",
        "      for c3 in characters:\n",
        "        for c4 in characters:\n",
        "          stringattempt = \"\"\n",
        "          stringattempt+= c1 + c2 + c3 + c4\n",
        "          #print(stringattempt, computeMD5(stringattempt.encode(\"utf-8\")) )\n",
        "          if computeMD5(stringattempt.encode(\"utf-8\")) == \"1885eca5a40bc32d5e1bca61fcd308a5\":\n",
        "            print(\"found!: \",stringattempt)\n",
        "            return;\n",
        "\n",
        "#findvalue()\n",
        "s = b'5465567'\n",
        "pin2 = 621903\n",
        "print(bytes.fromhex(str(pin2)))\n",
        "print(bytes(str(pin2),\"utf-8\"))\n",
        "for i in range(400*25):\n",
        "  pin2 = computeMD5(str(pin2).encode(\"utf-8\"))\n",
        "\n",
        "st = \"Vm0wd2QyVkZNVWRYV0docFVtMVNWVmx0ZEhkVlZscDBUVlpPVmsxWGVIbFdiVFZyVm0xS1IyTkliRmRXTTFKTVZsVmFWMVpWTVVWaGVqQTk=\"\n",
        "for i in range(10):\n",
        "  st = base64.b64decode(st).decode('utf-8')\n",
        "print(st+\" _- \"+st)\n",
        "#print(codecs.decode(b64,'base64'))\n",
        "\n",
        "key = \"0123456789abcdef\"\n",
        "flag= \"2ec552132149f0a9f3c92eef730a8ccbba64552828fdcc385b0836fa82cf9e6014e373c05943cfbfac2ee747b75d2e0a\"\n",
        "print(\"Size should be multiple of 16. Len: \",len(flag))\n",
        "print(decrypt_aes_ecb(bytes(flag,\"utf-8\"),bytes(key,\"utf-8\")))\n",
        "print(len(computeMD5(\"sd\".encode(\"utf-8\"))))\n",
        "\n",
        "\n",
        "def decrypt_aes(bytarray,key,iv):\n",
        "  cipher = AES.new(key, AES.MODE_CBC, iv)\n",
        "  return cipher.decrypt(bytarray)\n",
        "\n",
        "def string2hex(s):\n",
        "  hex_string = \"\"\n",
        "  for c in s:\n",
        "    hex_string += hex(ord(c))[2:]\n",
        "  return hex_string\n",
        "\n",
        "key = bytes([57, 226, 240, 61, 125, 240, 75, 68, 22, 35, 124, 205, 144, 27, 118, 220])\n",
        "iv = bytes([241, 147, 66, 129, 194, 34, 37, 51, 236, 69, 188, 205, 64, 140, 244, 204])\n",
        "msg = bytes([255, 18, 67, 115, 172, 117, 242, 233, 246, 69, 81, 156, 52, 154, 123, 171])\n",
        "print(bytes.fromhex(string2hex(\"mobiseccomkey!!!\")))\n",
        "print(bytes('hello world 1234',\"utf-8\"))\n",
        "print(string2hex(\"0\"))\n",
        "print(computeMD5(\"0000000000000000\".encode(\"utf-8\")))"
      ],
      "execution_count": null,
      "outputs": [
        {
          "output_type": "stream",
          "text": [
            "b'b\\x19\\x03'\n",
            "b'621903'\n",
            "- _- -\n",
            "Size should be multiple of 16. Len:  96\n",
            "b'Q\\xecqL\\x1b\\xa1y1\\xec\\xc3\\x87\\xef\\xdbf#\\xf2G\\xa8u\\x01\\xcc/j\\x92\\xc6mX\\xf4V\\xdf !Q7\\xa0\\xbc\\xd2\\x85\\xdb\\xce\\xf1\\x94~\\xe9\\xe1\\xb1\\x8b+W\\xcb\\xeey\\rd;\\xb4#\\xa4\"\\x8a0\\xa02\\x9a\\xd6@0\\xea]k\\xaa\\xa7x\\x1erF\\xab0\\x11i\\xcc\\xd6e\\xb3\\xda\\x08r\\xbc\\xb2\\xdfY\\xf6\\x00\\xba^\\x9d'\n",
            "32\n",
            "b'mobiseccomkey!!!'\n",
            "b'hello world 1234'\n",
            "30\n",
            "1e4a1b03d1b6cd8a174a826f76e009f4\n"
          ],
          "name": "stdout"
        }
      ]
    }
  ]
}